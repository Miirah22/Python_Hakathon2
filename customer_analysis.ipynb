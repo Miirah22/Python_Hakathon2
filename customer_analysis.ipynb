{
 "cells": [
  {
   "cell_type": "code",
   "execution_count": 2,
   "metadata": {},
   "outputs": [],
   "source": [
    "import pandas as pd\n",
    "import numpy as np\n",
    "import matplotlib.pyplot as plt\n",
    "import seaborn as sns\n",
    "\n",
    "import sklearn as sk\n",
    "from sklearn.cluster import KMeans"
   ]
  },
  {
   "cell_type": "code",
   "execution_count": 3,
   "metadata": {},
   "outputs": [
    {
     "data": {
      "text/html": [
       "<div>\n",
       "<style scoped>\n",
       "    .dataframe tbody tr th:only-of-type {\n",
       "        vertical-align: middle;\n",
       "    }\n",
       "\n",
       "    .dataframe tbody tr th {\n",
       "        vertical-align: top;\n",
       "    }\n",
       "\n",
       "    .dataframe thead th {\n",
       "        text-align: right;\n",
       "    }\n",
       "</style>\n",
       "<table border=\"1\" class=\"dataframe\">\n",
       "  <thead>\n",
       "    <tr style=\"text-align: right;\">\n",
       "      <th></th>\n",
       "      <th>InvoiceNo</th>\n",
       "      <th>StockCode</th>\n",
       "      <th>Description</th>\n",
       "      <th>Quantity</th>\n",
       "      <th>InvoiceDate</th>\n",
       "      <th>UnitPrice</th>\n",
       "      <th>CustomerID</th>\n",
       "      <th>Country</th>\n",
       "    </tr>\n",
       "  </thead>\n",
       "  <tbody>\n",
       "    <tr>\n",
       "      <th>0</th>\n",
       "      <td>536365</td>\n",
       "      <td>85123A</td>\n",
       "      <td>WHITE HANGING HEART T-LIGHT HOLDER</td>\n",
       "      <td>6</td>\n",
       "      <td>2010-12-01 08:26:00</td>\n",
       "      <td>2.55</td>\n",
       "      <td>17850.0</td>\n",
       "      <td>United Kingdom</td>\n",
       "    </tr>\n",
       "    <tr>\n",
       "      <th>1</th>\n",
       "      <td>536365</td>\n",
       "      <td>71053</td>\n",
       "      <td>WHITE METAL LANTERN</td>\n",
       "      <td>6</td>\n",
       "      <td>2010-12-01 08:26:00</td>\n",
       "      <td>3.39</td>\n",
       "      <td>17850.0</td>\n",
       "      <td>United Kingdom</td>\n",
       "    </tr>\n",
       "    <tr>\n",
       "      <th>2</th>\n",
       "      <td>536365</td>\n",
       "      <td>84406B</td>\n",
       "      <td>CREAM CUPID HEARTS COAT HANGER</td>\n",
       "      <td>8</td>\n",
       "      <td>2010-12-01 08:26:00</td>\n",
       "      <td>2.75</td>\n",
       "      <td>17850.0</td>\n",
       "      <td>United Kingdom</td>\n",
       "    </tr>\n",
       "    <tr>\n",
       "      <th>3</th>\n",
       "      <td>536365</td>\n",
       "      <td>84029G</td>\n",
       "      <td>KNITTED UNION FLAG HOT WATER BOTTLE</td>\n",
       "      <td>6</td>\n",
       "      <td>2010-12-01 08:26:00</td>\n",
       "      <td>3.39</td>\n",
       "      <td>17850.0</td>\n",
       "      <td>United Kingdom</td>\n",
       "    </tr>\n",
       "    <tr>\n",
       "      <th>4</th>\n",
       "      <td>536365</td>\n",
       "      <td>84029E</td>\n",
       "      <td>RED WOOLLY HOTTIE WHITE HEART.</td>\n",
       "      <td>6</td>\n",
       "      <td>2010-12-01 08:26:00</td>\n",
       "      <td>3.39</td>\n",
       "      <td>17850.0</td>\n",
       "      <td>United Kingdom</td>\n",
       "    </tr>\n",
       "    <tr>\n",
       "      <th>...</th>\n",
       "      <td>...</td>\n",
       "      <td>...</td>\n",
       "      <td>...</td>\n",
       "      <td>...</td>\n",
       "      <td>...</td>\n",
       "      <td>...</td>\n",
       "      <td>...</td>\n",
       "      <td>...</td>\n",
       "    </tr>\n",
       "    <tr>\n",
       "      <th>541904</th>\n",
       "      <td>581587</td>\n",
       "      <td>22613</td>\n",
       "      <td>PACK OF 20 SPACEBOY NAPKINS</td>\n",
       "      <td>12</td>\n",
       "      <td>2011-12-09 12:50:00</td>\n",
       "      <td>0.85</td>\n",
       "      <td>12680.0</td>\n",
       "      <td>France</td>\n",
       "    </tr>\n",
       "    <tr>\n",
       "      <th>541905</th>\n",
       "      <td>581587</td>\n",
       "      <td>22899</td>\n",
       "      <td>CHILDREN'S APRON DOLLY GIRL</td>\n",
       "      <td>6</td>\n",
       "      <td>2011-12-09 12:50:00</td>\n",
       "      <td>2.10</td>\n",
       "      <td>12680.0</td>\n",
       "      <td>France</td>\n",
       "    </tr>\n",
       "    <tr>\n",
       "      <th>541906</th>\n",
       "      <td>581587</td>\n",
       "      <td>23254</td>\n",
       "      <td>CHILDRENS CUTLERY DOLLY GIRL</td>\n",
       "      <td>4</td>\n",
       "      <td>2011-12-09 12:50:00</td>\n",
       "      <td>4.15</td>\n",
       "      <td>12680.0</td>\n",
       "      <td>France</td>\n",
       "    </tr>\n",
       "    <tr>\n",
       "      <th>541907</th>\n",
       "      <td>581587</td>\n",
       "      <td>23255</td>\n",
       "      <td>CHILDRENS CUTLERY CIRCUS PARADE</td>\n",
       "      <td>4</td>\n",
       "      <td>2011-12-09 12:50:00</td>\n",
       "      <td>4.15</td>\n",
       "      <td>12680.0</td>\n",
       "      <td>France</td>\n",
       "    </tr>\n",
       "    <tr>\n",
       "      <th>541908</th>\n",
       "      <td>581587</td>\n",
       "      <td>22138</td>\n",
       "      <td>BAKING SET 9 PIECE RETROSPOT</td>\n",
       "      <td>3</td>\n",
       "      <td>2011-12-09 12:50:00</td>\n",
       "      <td>4.95</td>\n",
       "      <td>12680.0</td>\n",
       "      <td>France</td>\n",
       "    </tr>\n",
       "  </tbody>\n",
       "</table>\n",
       "<p>541909 rows × 8 columns</p>\n",
       "</div>"
      ],
      "text/plain": [
       "       InvoiceNo StockCode                          Description  Quantity  \\\n",
       "0         536365    85123A   WHITE HANGING HEART T-LIGHT HOLDER         6   \n",
       "1         536365     71053                  WHITE METAL LANTERN         6   \n",
       "2         536365    84406B       CREAM CUPID HEARTS COAT HANGER         8   \n",
       "3         536365    84029G  KNITTED UNION FLAG HOT WATER BOTTLE         6   \n",
       "4         536365    84029E       RED WOOLLY HOTTIE WHITE HEART.         6   \n",
       "...          ...       ...                                  ...       ...   \n",
       "541904    581587     22613          PACK OF 20 SPACEBOY NAPKINS        12   \n",
       "541905    581587     22899         CHILDREN'S APRON DOLLY GIRL          6   \n",
       "541906    581587     23254        CHILDRENS CUTLERY DOLLY GIRL          4   \n",
       "541907    581587     23255      CHILDRENS CUTLERY CIRCUS PARADE         4   \n",
       "541908    581587     22138        BAKING SET 9 PIECE RETROSPOT          3   \n",
       "\n",
       "               InvoiceDate  UnitPrice  CustomerID         Country  \n",
       "0      2010-12-01 08:26:00       2.55     17850.0  United Kingdom  \n",
       "1      2010-12-01 08:26:00       3.39     17850.0  United Kingdom  \n",
       "2      2010-12-01 08:26:00       2.75     17850.0  United Kingdom  \n",
       "3      2010-12-01 08:26:00       3.39     17850.0  United Kingdom  \n",
       "4      2010-12-01 08:26:00       3.39     17850.0  United Kingdom  \n",
       "...                    ...        ...         ...             ...  \n",
       "541904 2011-12-09 12:50:00       0.85     12680.0          France  \n",
       "541905 2011-12-09 12:50:00       2.10     12680.0          France  \n",
       "541906 2011-12-09 12:50:00       4.15     12680.0          France  \n",
       "541907 2011-12-09 12:50:00       4.15     12680.0          France  \n",
       "541908 2011-12-09 12:50:00       4.95     12680.0          France  \n",
       "\n",
       "[541909 rows x 8 columns]"
      ]
     },
     "execution_count": 3,
     "metadata": {},
     "output_type": "execute_result"
    }
   ],
   "source": [
    "#Data Exploration - loading & explore data, check for missing values or inconsistencies in data.add()\n",
    "df = pd.read_excel('Online Retail.xlsx')\n",
    "df"
   ]
  },
  {
   "cell_type": "code",
   "execution_count": 4,
   "metadata": {},
   "outputs": [
    {
     "data": {
      "text/html": [
       "<div>\n",
       "<style scoped>\n",
       "    .dataframe tbody tr th:only-of-type {\n",
       "        vertical-align: middle;\n",
       "    }\n",
       "\n",
       "    .dataframe tbody tr th {\n",
       "        vertical-align: top;\n",
       "    }\n",
       "\n",
       "    .dataframe thead th {\n",
       "        text-align: right;\n",
       "    }\n",
       "</style>\n",
       "<table border=\"1\" class=\"dataframe\">\n",
       "  <thead>\n",
       "    <tr style=\"text-align: right;\">\n",
       "      <th></th>\n",
       "      <th>InvoiceNo</th>\n",
       "      <th>StockCode</th>\n",
       "      <th>Description</th>\n",
       "      <th>Quantity</th>\n",
       "      <th>InvoiceDate</th>\n",
       "      <th>UnitPrice</th>\n",
       "      <th>CustomerID</th>\n",
       "      <th>Country</th>\n",
       "    </tr>\n",
       "  </thead>\n",
       "  <tbody>\n",
       "    <tr>\n",
       "      <th>0</th>\n",
       "      <td>536365</td>\n",
       "      <td>85123A</td>\n",
       "      <td>WHITE HANGING HEART T-LIGHT HOLDER</td>\n",
       "      <td>6</td>\n",
       "      <td>2010-12-01 08:26:00</td>\n",
       "      <td>2.55</td>\n",
       "      <td>17850.0</td>\n",
       "      <td>United Kingdom</td>\n",
       "    </tr>\n",
       "    <tr>\n",
       "      <th>1</th>\n",
       "      <td>536365</td>\n",
       "      <td>71053</td>\n",
       "      <td>WHITE METAL LANTERN</td>\n",
       "      <td>6</td>\n",
       "      <td>2010-12-01 08:26:00</td>\n",
       "      <td>3.39</td>\n",
       "      <td>17850.0</td>\n",
       "      <td>United Kingdom</td>\n",
       "    </tr>\n",
       "    <tr>\n",
       "      <th>2</th>\n",
       "      <td>536365</td>\n",
       "      <td>84406B</td>\n",
       "      <td>CREAM CUPID HEARTS COAT HANGER</td>\n",
       "      <td>8</td>\n",
       "      <td>2010-12-01 08:26:00</td>\n",
       "      <td>2.75</td>\n",
       "      <td>17850.0</td>\n",
       "      <td>United Kingdom</td>\n",
       "    </tr>\n",
       "    <tr>\n",
       "      <th>3</th>\n",
       "      <td>536365</td>\n",
       "      <td>84029G</td>\n",
       "      <td>KNITTED UNION FLAG HOT WATER BOTTLE</td>\n",
       "      <td>6</td>\n",
       "      <td>2010-12-01 08:26:00</td>\n",
       "      <td>3.39</td>\n",
       "      <td>17850.0</td>\n",
       "      <td>United Kingdom</td>\n",
       "    </tr>\n",
       "    <tr>\n",
       "      <th>4</th>\n",
       "      <td>536365</td>\n",
       "      <td>84029E</td>\n",
       "      <td>RED WOOLLY HOTTIE WHITE HEART.</td>\n",
       "      <td>6</td>\n",
       "      <td>2010-12-01 08:26:00</td>\n",
       "      <td>3.39</td>\n",
       "      <td>17850.0</td>\n",
       "      <td>United Kingdom</td>\n",
       "    </tr>\n",
       "    <tr>\n",
       "      <th>5</th>\n",
       "      <td>536365</td>\n",
       "      <td>22752</td>\n",
       "      <td>SET 7 BABUSHKA NESTING BOXES</td>\n",
       "      <td>2</td>\n",
       "      <td>2010-12-01 08:26:00</td>\n",
       "      <td>7.65</td>\n",
       "      <td>17850.0</td>\n",
       "      <td>United Kingdom</td>\n",
       "    </tr>\n",
       "    <tr>\n",
       "      <th>6</th>\n",
       "      <td>536365</td>\n",
       "      <td>21730</td>\n",
       "      <td>GLASS STAR FROSTED T-LIGHT HOLDER</td>\n",
       "      <td>6</td>\n",
       "      <td>2010-12-01 08:26:00</td>\n",
       "      <td>4.25</td>\n",
       "      <td>17850.0</td>\n",
       "      <td>United Kingdom</td>\n",
       "    </tr>\n",
       "    <tr>\n",
       "      <th>7</th>\n",
       "      <td>536366</td>\n",
       "      <td>22633</td>\n",
       "      <td>HAND WARMER UNION JACK</td>\n",
       "      <td>6</td>\n",
       "      <td>2010-12-01 08:28:00</td>\n",
       "      <td>1.85</td>\n",
       "      <td>17850.0</td>\n",
       "      <td>United Kingdom</td>\n",
       "    </tr>\n",
       "    <tr>\n",
       "      <th>8</th>\n",
       "      <td>536366</td>\n",
       "      <td>22632</td>\n",
       "      <td>HAND WARMER RED POLKA DOT</td>\n",
       "      <td>6</td>\n",
       "      <td>2010-12-01 08:28:00</td>\n",
       "      <td>1.85</td>\n",
       "      <td>17850.0</td>\n",
       "      <td>United Kingdom</td>\n",
       "    </tr>\n",
       "    <tr>\n",
       "      <th>9</th>\n",
       "      <td>536367</td>\n",
       "      <td>84879</td>\n",
       "      <td>ASSORTED COLOUR BIRD ORNAMENT</td>\n",
       "      <td>32</td>\n",
       "      <td>2010-12-01 08:34:00</td>\n",
       "      <td>1.69</td>\n",
       "      <td>13047.0</td>\n",
       "      <td>United Kingdom</td>\n",
       "    </tr>\n",
       "    <tr>\n",
       "      <th>10</th>\n",
       "      <td>536367</td>\n",
       "      <td>22745</td>\n",
       "      <td>POPPY'S PLAYHOUSE BEDROOM</td>\n",
       "      <td>6</td>\n",
       "      <td>2010-12-01 08:34:00</td>\n",
       "      <td>2.10</td>\n",
       "      <td>13047.0</td>\n",
       "      <td>United Kingdom</td>\n",
       "    </tr>\n",
       "    <tr>\n",
       "      <th>11</th>\n",
       "      <td>536367</td>\n",
       "      <td>22748</td>\n",
       "      <td>POPPY'S PLAYHOUSE KITCHEN</td>\n",
       "      <td>6</td>\n",
       "      <td>2010-12-01 08:34:00</td>\n",
       "      <td>2.10</td>\n",
       "      <td>13047.0</td>\n",
       "      <td>United Kingdom</td>\n",
       "    </tr>\n",
       "    <tr>\n",
       "      <th>12</th>\n",
       "      <td>536367</td>\n",
       "      <td>22749</td>\n",
       "      <td>FELTCRAFT PRINCESS CHARLOTTE DOLL</td>\n",
       "      <td>8</td>\n",
       "      <td>2010-12-01 08:34:00</td>\n",
       "      <td>3.75</td>\n",
       "      <td>13047.0</td>\n",
       "      <td>United Kingdom</td>\n",
       "    </tr>\n",
       "    <tr>\n",
       "      <th>13</th>\n",
       "      <td>536367</td>\n",
       "      <td>22310</td>\n",
       "      <td>IVORY KNITTED MUG COSY</td>\n",
       "      <td>6</td>\n",
       "      <td>2010-12-01 08:34:00</td>\n",
       "      <td>1.65</td>\n",
       "      <td>13047.0</td>\n",
       "      <td>United Kingdom</td>\n",
       "    </tr>\n",
       "    <tr>\n",
       "      <th>14</th>\n",
       "      <td>536367</td>\n",
       "      <td>84969</td>\n",
       "      <td>BOX OF 6 ASSORTED COLOUR TEASPOONS</td>\n",
       "      <td>6</td>\n",
       "      <td>2010-12-01 08:34:00</td>\n",
       "      <td>4.25</td>\n",
       "      <td>13047.0</td>\n",
       "      <td>United Kingdom</td>\n",
       "    </tr>\n",
       "    <tr>\n",
       "      <th>15</th>\n",
       "      <td>536367</td>\n",
       "      <td>22623</td>\n",
       "      <td>BOX OF VINTAGE JIGSAW BLOCKS</td>\n",
       "      <td>3</td>\n",
       "      <td>2010-12-01 08:34:00</td>\n",
       "      <td>4.95</td>\n",
       "      <td>13047.0</td>\n",
       "      <td>United Kingdom</td>\n",
       "    </tr>\n",
       "    <tr>\n",
       "      <th>16</th>\n",
       "      <td>536367</td>\n",
       "      <td>22622</td>\n",
       "      <td>BOX OF VINTAGE ALPHABET BLOCKS</td>\n",
       "      <td>2</td>\n",
       "      <td>2010-12-01 08:34:00</td>\n",
       "      <td>9.95</td>\n",
       "      <td>13047.0</td>\n",
       "      <td>United Kingdom</td>\n",
       "    </tr>\n",
       "    <tr>\n",
       "      <th>17</th>\n",
       "      <td>536367</td>\n",
       "      <td>21754</td>\n",
       "      <td>HOME BUILDING BLOCK WORD</td>\n",
       "      <td>3</td>\n",
       "      <td>2010-12-01 08:34:00</td>\n",
       "      <td>5.95</td>\n",
       "      <td>13047.0</td>\n",
       "      <td>United Kingdom</td>\n",
       "    </tr>\n",
       "    <tr>\n",
       "      <th>18</th>\n",
       "      <td>536367</td>\n",
       "      <td>21755</td>\n",
       "      <td>LOVE BUILDING BLOCK WORD</td>\n",
       "      <td>3</td>\n",
       "      <td>2010-12-01 08:34:00</td>\n",
       "      <td>5.95</td>\n",
       "      <td>13047.0</td>\n",
       "      <td>United Kingdom</td>\n",
       "    </tr>\n",
       "    <tr>\n",
       "      <th>19</th>\n",
       "      <td>536367</td>\n",
       "      <td>21777</td>\n",
       "      <td>RECIPE BOX WITH METAL HEART</td>\n",
       "      <td>4</td>\n",
       "      <td>2010-12-01 08:34:00</td>\n",
       "      <td>7.95</td>\n",
       "      <td>13047.0</td>\n",
       "      <td>United Kingdom</td>\n",
       "    </tr>\n",
       "  </tbody>\n",
       "</table>\n",
       "</div>"
      ],
      "text/plain": [
       "   InvoiceNo StockCode                          Description  Quantity  \\\n",
       "0     536365    85123A   WHITE HANGING HEART T-LIGHT HOLDER         6   \n",
       "1     536365     71053                  WHITE METAL LANTERN         6   \n",
       "2     536365    84406B       CREAM CUPID HEARTS COAT HANGER         8   \n",
       "3     536365    84029G  KNITTED UNION FLAG HOT WATER BOTTLE         6   \n",
       "4     536365    84029E       RED WOOLLY HOTTIE WHITE HEART.         6   \n",
       "5     536365     22752         SET 7 BABUSHKA NESTING BOXES         2   \n",
       "6     536365     21730    GLASS STAR FROSTED T-LIGHT HOLDER         6   \n",
       "7     536366     22633               HAND WARMER UNION JACK         6   \n",
       "8     536366     22632            HAND WARMER RED POLKA DOT         6   \n",
       "9     536367     84879        ASSORTED COLOUR BIRD ORNAMENT        32   \n",
       "10    536367     22745           POPPY'S PLAYHOUSE BEDROOM          6   \n",
       "11    536367     22748            POPPY'S PLAYHOUSE KITCHEN         6   \n",
       "12    536367     22749    FELTCRAFT PRINCESS CHARLOTTE DOLL         8   \n",
       "13    536367     22310              IVORY KNITTED MUG COSY          6   \n",
       "14    536367     84969   BOX OF 6 ASSORTED COLOUR TEASPOONS         6   \n",
       "15    536367     22623        BOX OF VINTAGE JIGSAW BLOCKS          3   \n",
       "16    536367     22622       BOX OF VINTAGE ALPHABET BLOCKS         2   \n",
       "17    536367     21754             HOME BUILDING BLOCK WORD         3   \n",
       "18    536367     21755             LOVE BUILDING BLOCK WORD         3   \n",
       "19    536367     21777          RECIPE BOX WITH METAL HEART         4   \n",
       "\n",
       "           InvoiceDate  UnitPrice  CustomerID         Country  \n",
       "0  2010-12-01 08:26:00       2.55     17850.0  United Kingdom  \n",
       "1  2010-12-01 08:26:00       3.39     17850.0  United Kingdom  \n",
       "2  2010-12-01 08:26:00       2.75     17850.0  United Kingdom  \n",
       "3  2010-12-01 08:26:00       3.39     17850.0  United Kingdom  \n",
       "4  2010-12-01 08:26:00       3.39     17850.0  United Kingdom  \n",
       "5  2010-12-01 08:26:00       7.65     17850.0  United Kingdom  \n",
       "6  2010-12-01 08:26:00       4.25     17850.0  United Kingdom  \n",
       "7  2010-12-01 08:28:00       1.85     17850.0  United Kingdom  \n",
       "8  2010-12-01 08:28:00       1.85     17850.0  United Kingdom  \n",
       "9  2010-12-01 08:34:00       1.69     13047.0  United Kingdom  \n",
       "10 2010-12-01 08:34:00       2.10     13047.0  United Kingdom  \n",
       "11 2010-12-01 08:34:00       2.10     13047.0  United Kingdom  \n",
       "12 2010-12-01 08:34:00       3.75     13047.0  United Kingdom  \n",
       "13 2010-12-01 08:34:00       1.65     13047.0  United Kingdom  \n",
       "14 2010-12-01 08:34:00       4.25     13047.0  United Kingdom  \n",
       "15 2010-12-01 08:34:00       4.95     13047.0  United Kingdom  \n",
       "16 2010-12-01 08:34:00       9.95     13047.0  United Kingdom  \n",
       "17 2010-12-01 08:34:00       5.95     13047.0  United Kingdom  \n",
       "18 2010-12-01 08:34:00       5.95     13047.0  United Kingdom  \n",
       "19 2010-12-01 08:34:00       7.95     13047.0  United Kingdom  "
      ]
     },
     "execution_count": 4,
     "metadata": {},
     "output_type": "execute_result"
    }
   ],
   "source": [
    "df.head(20)"
   ]
  },
  {
   "cell_type": "code",
   "execution_count": 5,
   "metadata": {},
   "outputs": [
    {
     "data": {
      "text/html": [
       "<div>\n",
       "<style scoped>\n",
       "    .dataframe tbody tr th:only-of-type {\n",
       "        vertical-align: middle;\n",
       "    }\n",
       "\n",
       "    .dataframe tbody tr th {\n",
       "        vertical-align: top;\n",
       "    }\n",
       "\n",
       "    .dataframe thead th {\n",
       "        text-align: right;\n",
       "    }\n",
       "</style>\n",
       "<table border=\"1\" class=\"dataframe\">\n",
       "  <thead>\n",
       "    <tr style=\"text-align: right;\">\n",
       "      <th></th>\n",
       "      <th>InvoiceNo</th>\n",
       "      <th>StockCode</th>\n",
       "      <th>Description</th>\n",
       "      <th>Quantity</th>\n",
       "      <th>InvoiceDate</th>\n",
       "      <th>UnitPrice</th>\n",
       "      <th>CustomerID</th>\n",
       "      <th>Country</th>\n",
       "    </tr>\n",
       "  </thead>\n",
       "  <tbody>\n",
       "    <tr>\n",
       "      <th>541889</th>\n",
       "      <td>581585</td>\n",
       "      <td>22466</td>\n",
       "      <td>FAIRY TALE COTTAGE NIGHT LIGHT</td>\n",
       "      <td>12</td>\n",
       "      <td>2011-12-09 12:31:00</td>\n",
       "      <td>1.95</td>\n",
       "      <td>15804.0</td>\n",
       "      <td>United Kingdom</td>\n",
       "    </tr>\n",
       "    <tr>\n",
       "      <th>541890</th>\n",
       "      <td>581586</td>\n",
       "      <td>22061</td>\n",
       "      <td>LARGE CAKE STAND  HANGING STRAWBERY</td>\n",
       "      <td>8</td>\n",
       "      <td>2011-12-09 12:49:00</td>\n",
       "      <td>2.95</td>\n",
       "      <td>13113.0</td>\n",
       "      <td>United Kingdom</td>\n",
       "    </tr>\n",
       "    <tr>\n",
       "      <th>541891</th>\n",
       "      <td>581586</td>\n",
       "      <td>23275</td>\n",
       "      <td>SET OF 3 HANGING OWLS OLLIE BEAK</td>\n",
       "      <td>24</td>\n",
       "      <td>2011-12-09 12:49:00</td>\n",
       "      <td>1.25</td>\n",
       "      <td>13113.0</td>\n",
       "      <td>United Kingdom</td>\n",
       "    </tr>\n",
       "    <tr>\n",
       "      <th>541892</th>\n",
       "      <td>581586</td>\n",
       "      <td>21217</td>\n",
       "      <td>RED RETROSPOT ROUND CAKE TINS</td>\n",
       "      <td>24</td>\n",
       "      <td>2011-12-09 12:49:00</td>\n",
       "      <td>8.95</td>\n",
       "      <td>13113.0</td>\n",
       "      <td>United Kingdom</td>\n",
       "    </tr>\n",
       "    <tr>\n",
       "      <th>541893</th>\n",
       "      <td>581586</td>\n",
       "      <td>20685</td>\n",
       "      <td>DOORMAT RED RETROSPOT</td>\n",
       "      <td>10</td>\n",
       "      <td>2011-12-09 12:49:00</td>\n",
       "      <td>7.08</td>\n",
       "      <td>13113.0</td>\n",
       "      <td>United Kingdom</td>\n",
       "    </tr>\n",
       "    <tr>\n",
       "      <th>541894</th>\n",
       "      <td>581587</td>\n",
       "      <td>22631</td>\n",
       "      <td>CIRCUS PARADE LUNCH BOX</td>\n",
       "      <td>12</td>\n",
       "      <td>2011-12-09 12:50:00</td>\n",
       "      <td>1.95</td>\n",
       "      <td>12680.0</td>\n",
       "      <td>France</td>\n",
       "    </tr>\n",
       "    <tr>\n",
       "      <th>541895</th>\n",
       "      <td>581587</td>\n",
       "      <td>22556</td>\n",
       "      <td>PLASTERS IN TIN CIRCUS PARADE</td>\n",
       "      <td>12</td>\n",
       "      <td>2011-12-09 12:50:00</td>\n",
       "      <td>1.65</td>\n",
       "      <td>12680.0</td>\n",
       "      <td>France</td>\n",
       "    </tr>\n",
       "    <tr>\n",
       "      <th>541896</th>\n",
       "      <td>581587</td>\n",
       "      <td>22555</td>\n",
       "      <td>PLASTERS IN TIN STRONGMAN</td>\n",
       "      <td>12</td>\n",
       "      <td>2011-12-09 12:50:00</td>\n",
       "      <td>1.65</td>\n",
       "      <td>12680.0</td>\n",
       "      <td>France</td>\n",
       "    </tr>\n",
       "    <tr>\n",
       "      <th>541897</th>\n",
       "      <td>581587</td>\n",
       "      <td>22728</td>\n",
       "      <td>ALARM CLOCK BAKELIKE PINK</td>\n",
       "      <td>4</td>\n",
       "      <td>2011-12-09 12:50:00</td>\n",
       "      <td>3.75</td>\n",
       "      <td>12680.0</td>\n",
       "      <td>France</td>\n",
       "    </tr>\n",
       "    <tr>\n",
       "      <th>541898</th>\n",
       "      <td>581587</td>\n",
       "      <td>22727</td>\n",
       "      <td>ALARM CLOCK BAKELIKE RED</td>\n",
       "      <td>4</td>\n",
       "      <td>2011-12-09 12:50:00</td>\n",
       "      <td>3.75</td>\n",
       "      <td>12680.0</td>\n",
       "      <td>France</td>\n",
       "    </tr>\n",
       "    <tr>\n",
       "      <th>541899</th>\n",
       "      <td>581587</td>\n",
       "      <td>22726</td>\n",
       "      <td>ALARM CLOCK BAKELIKE GREEN</td>\n",
       "      <td>4</td>\n",
       "      <td>2011-12-09 12:50:00</td>\n",
       "      <td>3.75</td>\n",
       "      <td>12680.0</td>\n",
       "      <td>France</td>\n",
       "    </tr>\n",
       "    <tr>\n",
       "      <th>541900</th>\n",
       "      <td>581587</td>\n",
       "      <td>22730</td>\n",
       "      <td>ALARM CLOCK BAKELIKE IVORY</td>\n",
       "      <td>4</td>\n",
       "      <td>2011-12-09 12:50:00</td>\n",
       "      <td>3.75</td>\n",
       "      <td>12680.0</td>\n",
       "      <td>France</td>\n",
       "    </tr>\n",
       "    <tr>\n",
       "      <th>541901</th>\n",
       "      <td>581587</td>\n",
       "      <td>22367</td>\n",
       "      <td>CHILDRENS APRON SPACEBOY DESIGN</td>\n",
       "      <td>8</td>\n",
       "      <td>2011-12-09 12:50:00</td>\n",
       "      <td>1.95</td>\n",
       "      <td>12680.0</td>\n",
       "      <td>France</td>\n",
       "    </tr>\n",
       "    <tr>\n",
       "      <th>541902</th>\n",
       "      <td>581587</td>\n",
       "      <td>22629</td>\n",
       "      <td>SPACEBOY LUNCH BOX</td>\n",
       "      <td>12</td>\n",
       "      <td>2011-12-09 12:50:00</td>\n",
       "      <td>1.95</td>\n",
       "      <td>12680.0</td>\n",
       "      <td>France</td>\n",
       "    </tr>\n",
       "    <tr>\n",
       "      <th>541903</th>\n",
       "      <td>581587</td>\n",
       "      <td>23256</td>\n",
       "      <td>CHILDRENS CUTLERY SPACEBOY</td>\n",
       "      <td>4</td>\n",
       "      <td>2011-12-09 12:50:00</td>\n",
       "      <td>4.15</td>\n",
       "      <td>12680.0</td>\n",
       "      <td>France</td>\n",
       "    </tr>\n",
       "    <tr>\n",
       "      <th>541904</th>\n",
       "      <td>581587</td>\n",
       "      <td>22613</td>\n",
       "      <td>PACK OF 20 SPACEBOY NAPKINS</td>\n",
       "      <td>12</td>\n",
       "      <td>2011-12-09 12:50:00</td>\n",
       "      <td>0.85</td>\n",
       "      <td>12680.0</td>\n",
       "      <td>France</td>\n",
       "    </tr>\n",
       "    <tr>\n",
       "      <th>541905</th>\n",
       "      <td>581587</td>\n",
       "      <td>22899</td>\n",
       "      <td>CHILDREN'S APRON DOLLY GIRL</td>\n",
       "      <td>6</td>\n",
       "      <td>2011-12-09 12:50:00</td>\n",
       "      <td>2.10</td>\n",
       "      <td>12680.0</td>\n",
       "      <td>France</td>\n",
       "    </tr>\n",
       "    <tr>\n",
       "      <th>541906</th>\n",
       "      <td>581587</td>\n",
       "      <td>23254</td>\n",
       "      <td>CHILDRENS CUTLERY DOLLY GIRL</td>\n",
       "      <td>4</td>\n",
       "      <td>2011-12-09 12:50:00</td>\n",
       "      <td>4.15</td>\n",
       "      <td>12680.0</td>\n",
       "      <td>France</td>\n",
       "    </tr>\n",
       "    <tr>\n",
       "      <th>541907</th>\n",
       "      <td>581587</td>\n",
       "      <td>23255</td>\n",
       "      <td>CHILDRENS CUTLERY CIRCUS PARADE</td>\n",
       "      <td>4</td>\n",
       "      <td>2011-12-09 12:50:00</td>\n",
       "      <td>4.15</td>\n",
       "      <td>12680.0</td>\n",
       "      <td>France</td>\n",
       "    </tr>\n",
       "    <tr>\n",
       "      <th>541908</th>\n",
       "      <td>581587</td>\n",
       "      <td>22138</td>\n",
       "      <td>BAKING SET 9 PIECE RETROSPOT</td>\n",
       "      <td>3</td>\n",
       "      <td>2011-12-09 12:50:00</td>\n",
       "      <td>4.95</td>\n",
       "      <td>12680.0</td>\n",
       "      <td>France</td>\n",
       "    </tr>\n",
       "  </tbody>\n",
       "</table>\n",
       "</div>"
      ],
      "text/plain": [
       "       InvoiceNo StockCode                          Description  Quantity  \\\n",
       "541889    581585     22466       FAIRY TALE COTTAGE NIGHT LIGHT        12   \n",
       "541890    581586     22061  LARGE CAKE STAND  HANGING STRAWBERY         8   \n",
       "541891    581586     23275     SET OF 3 HANGING OWLS OLLIE BEAK        24   \n",
       "541892    581586     21217        RED RETROSPOT ROUND CAKE TINS        24   \n",
       "541893    581586     20685                DOORMAT RED RETROSPOT        10   \n",
       "541894    581587     22631             CIRCUS PARADE LUNCH BOX         12   \n",
       "541895    581587     22556       PLASTERS IN TIN CIRCUS PARADE         12   \n",
       "541896    581587     22555            PLASTERS IN TIN STRONGMAN        12   \n",
       "541897    581587     22728            ALARM CLOCK BAKELIKE PINK         4   \n",
       "541898    581587     22727            ALARM CLOCK BAKELIKE RED          4   \n",
       "541899    581587     22726           ALARM CLOCK BAKELIKE GREEN         4   \n",
       "541900    581587     22730           ALARM CLOCK BAKELIKE IVORY         4   \n",
       "541901    581587     22367      CHILDRENS APRON SPACEBOY DESIGN         8   \n",
       "541902    581587     22629                  SPACEBOY LUNCH BOX         12   \n",
       "541903    581587     23256          CHILDRENS CUTLERY SPACEBOY          4   \n",
       "541904    581587     22613          PACK OF 20 SPACEBOY NAPKINS        12   \n",
       "541905    581587     22899         CHILDREN'S APRON DOLLY GIRL          6   \n",
       "541906    581587     23254        CHILDRENS CUTLERY DOLLY GIRL          4   \n",
       "541907    581587     23255      CHILDRENS CUTLERY CIRCUS PARADE         4   \n",
       "541908    581587     22138        BAKING SET 9 PIECE RETROSPOT          3   \n",
       "\n",
       "               InvoiceDate  UnitPrice  CustomerID         Country  \n",
       "541889 2011-12-09 12:31:00       1.95     15804.0  United Kingdom  \n",
       "541890 2011-12-09 12:49:00       2.95     13113.0  United Kingdom  \n",
       "541891 2011-12-09 12:49:00       1.25     13113.0  United Kingdom  \n",
       "541892 2011-12-09 12:49:00       8.95     13113.0  United Kingdom  \n",
       "541893 2011-12-09 12:49:00       7.08     13113.0  United Kingdom  \n",
       "541894 2011-12-09 12:50:00       1.95     12680.0          France  \n",
       "541895 2011-12-09 12:50:00       1.65     12680.0          France  \n",
       "541896 2011-12-09 12:50:00       1.65     12680.0          France  \n",
       "541897 2011-12-09 12:50:00       3.75     12680.0          France  \n",
       "541898 2011-12-09 12:50:00       3.75     12680.0          France  \n",
       "541899 2011-12-09 12:50:00       3.75     12680.0          France  \n",
       "541900 2011-12-09 12:50:00       3.75     12680.0          France  \n",
       "541901 2011-12-09 12:50:00       1.95     12680.0          France  \n",
       "541902 2011-12-09 12:50:00       1.95     12680.0          France  \n",
       "541903 2011-12-09 12:50:00       4.15     12680.0          France  \n",
       "541904 2011-12-09 12:50:00       0.85     12680.0          France  \n",
       "541905 2011-12-09 12:50:00       2.10     12680.0          France  \n",
       "541906 2011-12-09 12:50:00       4.15     12680.0          France  \n",
       "541907 2011-12-09 12:50:00       4.15     12680.0          France  \n",
       "541908 2011-12-09 12:50:00       4.95     12680.0          France  "
      ]
     },
     "execution_count": 5,
     "metadata": {},
     "output_type": "execute_result"
    }
   ],
   "source": [
    "df.tail(20)"
   ]
  },
  {
   "cell_type": "code",
   "execution_count": 6,
   "metadata": {},
   "outputs": [
    {
     "name": "stdout",
     "output_type": "stream",
     "text": [
      "<class 'pandas.core.frame.DataFrame'>\n",
      "RangeIndex: 541909 entries, 0 to 541908\n",
      "Data columns (total 8 columns):\n",
      " #   Column       Non-Null Count   Dtype         \n",
      "---  ------       --------------   -----         \n",
      " 0   InvoiceNo    541909 non-null  object        \n",
      " 1   StockCode    541909 non-null  object        \n",
      " 2   Description  540455 non-null  object        \n",
      " 3   Quantity     541909 non-null  int64         \n",
      " 4   InvoiceDate  541909 non-null  datetime64[ns]\n",
      " 5   UnitPrice    541909 non-null  float64       \n",
      " 6   CustomerID   406829 non-null  float64       \n",
      " 7   Country      541909 non-null  object        \n",
      "dtypes: datetime64[ns](1), float64(2), int64(1), object(4)\n",
      "memory usage: 33.1+ MB\n"
     ]
    }
   ],
   "source": [
    "df.info()"
   ]
  },
  {
   "cell_type": "code",
   "execution_count": 7,
   "metadata": {},
   "outputs": [
    {
     "data": {
      "text/plain": [
       "InvoiceNo           0\n",
       "StockCode           0\n",
       "Description      1454\n",
       "Quantity            0\n",
       "InvoiceDate         0\n",
       "UnitPrice           0\n",
       "CustomerID     135080\n",
       "Country             0\n",
       "dtype: int64"
      ]
     },
     "execution_count": 7,
     "metadata": {},
     "output_type": "execute_result"
    }
   ],
   "source": [
    "df.isnull().sum()"
   ]
  },
  {
   "cell_type": "code",
   "execution_count": 8,
   "metadata": {},
   "outputs": [
    {
     "data": {
      "text/plain": [
       "InvoiceNo      0\n",
       "StockCode      0\n",
       "Description    0\n",
       "Quantity       0\n",
       "InvoiceDate    0\n",
       "UnitPrice      0\n",
       "CustomerID     0\n",
       "Country        0\n",
       "dtype: int64"
      ]
     },
     "execution_count": 8,
     "metadata": {},
     "output_type": "execute_result"
    }
   ],
   "source": [
    "cleaned_df = df.dropna()\n",
    "cleaned_df.isnull().sum()"
   ]
  },
  {
   "cell_type": "code",
   "execution_count": 9,
   "metadata": {},
   "outputs": [
    {
     "data": {
      "text/plain": [
       "array(['United Kingdom', 'France', 'Australia', 'Netherlands', 'Germany',\n",
       "       'Norway', 'EIRE', 'Switzerland', 'Spain', 'Poland', 'Portugal',\n",
       "       'Italy', 'Belgium', 'Lithuania', 'Japan', 'Iceland',\n",
       "       'Channel Islands', 'Denmark', 'Cyprus', 'Sweden', 'Austria',\n",
       "       'Israel', 'Finland', 'Bahrain', 'Greece', 'Hong Kong', 'Singapore',\n",
       "       'Lebanon', 'United Arab Emirates', 'Saudi Arabia',\n",
       "       'Czech Republic', 'Canada', 'Unspecified', 'Brazil', 'USA',\n",
       "       'European Community', 'Malta', 'RSA'], dtype=object)"
      ]
     },
     "execution_count": 9,
     "metadata": {},
     "output_type": "execute_result"
    }
   ],
   "source": [
    "df['Country'].unique()"
   ]
  },
  {
   "cell_type": "code",
   "execution_count": 10,
   "metadata": {},
   "outputs": [
    {
     "data": {
      "text/plain": [
       "array([536365, 536366, 536367, ..., 581585, 581586, 581587], dtype=object)"
      ]
     },
     "execution_count": 10,
     "metadata": {},
     "output_type": "execute_result"
    }
   ],
   "source": [
    "df['InvoiceNo'].unique()"
   ]
  },
  {
   "cell_type": "code",
   "execution_count": 11,
   "metadata": {},
   "outputs": [
    {
     "data": {
      "text/html": [
       "<div>\n",
       "<style scoped>\n",
       "    .dataframe tbody tr th:only-of-type {\n",
       "        vertical-align: middle;\n",
       "    }\n",
       "\n",
       "    .dataframe tbody tr th {\n",
       "        vertical-align: top;\n",
       "    }\n",
       "\n",
       "    .dataframe thead th {\n",
       "        text-align: right;\n",
       "    }\n",
       "</style>\n",
       "<table border=\"1\" class=\"dataframe\">\n",
       "  <thead>\n",
       "    <tr style=\"text-align: right;\">\n",
       "      <th></th>\n",
       "      <th>InvoiceNo</th>\n",
       "      <th>StockCode</th>\n",
       "      <th>Description</th>\n",
       "      <th>Quantity</th>\n",
       "      <th>InvoiceDate</th>\n",
       "      <th>UnitPrice</th>\n",
       "      <th>CustomerID</th>\n",
       "      <th>Country</th>\n",
       "    </tr>\n",
       "  </thead>\n",
       "  <tbody>\n",
       "    <tr>\n",
       "      <th>541880</th>\n",
       "      <td>581585</td>\n",
       "      <td>22727</td>\n",
       "      <td>ALARM CLOCK BAKELIKE RED</td>\n",
       "      <td>4</td>\n",
       "      <td>2011-12-09 12:31:00</td>\n",
       "      <td>3.75</td>\n",
       "      <td>15804.0</td>\n",
       "      <td>United Kingdom</td>\n",
       "    </tr>\n",
       "    <tr>\n",
       "      <th>541881</th>\n",
       "      <td>581585</td>\n",
       "      <td>16016</td>\n",
       "      <td>LARGE CHINESE STYLE SCISSOR</td>\n",
       "      <td>10</td>\n",
       "      <td>2011-12-09 12:31:00</td>\n",
       "      <td>0.85</td>\n",
       "      <td>15804.0</td>\n",
       "      <td>United Kingdom</td>\n",
       "    </tr>\n",
       "    <tr>\n",
       "      <th>541882</th>\n",
       "      <td>581585</td>\n",
       "      <td>21916</td>\n",
       "      <td>SET 12 RETRO WHITE CHALK STICKS</td>\n",
       "      <td>24</td>\n",
       "      <td>2011-12-09 12:31:00</td>\n",
       "      <td>0.42</td>\n",
       "      <td>15804.0</td>\n",
       "      <td>United Kingdom</td>\n",
       "    </tr>\n",
       "    <tr>\n",
       "      <th>541883</th>\n",
       "      <td>581585</td>\n",
       "      <td>84692</td>\n",
       "      <td>BOX OF 24 COCKTAIL PARASOLS</td>\n",
       "      <td>25</td>\n",
       "      <td>2011-12-09 12:31:00</td>\n",
       "      <td>0.42</td>\n",
       "      <td>15804.0</td>\n",
       "      <td>United Kingdom</td>\n",
       "    </tr>\n",
       "    <tr>\n",
       "      <th>541884</th>\n",
       "      <td>581585</td>\n",
       "      <td>84946</td>\n",
       "      <td>ANTIQUE SILVER T-LIGHT GLASS</td>\n",
       "      <td>12</td>\n",
       "      <td>2011-12-09 12:31:00</td>\n",
       "      <td>1.25</td>\n",
       "      <td>15804.0</td>\n",
       "      <td>United Kingdom</td>\n",
       "    </tr>\n",
       "    <tr>\n",
       "      <th>541885</th>\n",
       "      <td>581585</td>\n",
       "      <td>21684</td>\n",
       "      <td>SMALL MEDINA STAMPED METAL BOWL</td>\n",
       "      <td>12</td>\n",
       "      <td>2011-12-09 12:31:00</td>\n",
       "      <td>0.85</td>\n",
       "      <td>15804.0</td>\n",
       "      <td>United Kingdom</td>\n",
       "    </tr>\n",
       "    <tr>\n",
       "      <th>541886</th>\n",
       "      <td>581585</td>\n",
       "      <td>22398</td>\n",
       "      <td>MAGNETS PACK OF 4 SWALLOWS</td>\n",
       "      <td>12</td>\n",
       "      <td>2011-12-09 12:31:00</td>\n",
       "      <td>0.39</td>\n",
       "      <td>15804.0</td>\n",
       "      <td>United Kingdom</td>\n",
       "    </tr>\n",
       "    <tr>\n",
       "      <th>541887</th>\n",
       "      <td>581585</td>\n",
       "      <td>23328</td>\n",
       "      <td>SET 6 SCHOOL MILK BOTTLES IN CRATE</td>\n",
       "      <td>4</td>\n",
       "      <td>2011-12-09 12:31:00</td>\n",
       "      <td>3.75</td>\n",
       "      <td>15804.0</td>\n",
       "      <td>United Kingdom</td>\n",
       "    </tr>\n",
       "  </tbody>\n",
       "</table>\n",
       "</div>"
      ],
      "text/plain": [
       "       InvoiceNo StockCode                         Description  Quantity  \\\n",
       "541880    581585     22727           ALARM CLOCK BAKELIKE RED          4   \n",
       "541881    581585     16016         LARGE CHINESE STYLE SCISSOR        10   \n",
       "541882    581585     21916     SET 12 RETRO WHITE CHALK STICKS        24   \n",
       "541883    581585     84692         BOX OF 24 COCKTAIL PARASOLS        25   \n",
       "541884    581585     84946        ANTIQUE SILVER T-LIGHT GLASS        12   \n",
       "541885    581585     21684    SMALL MEDINA STAMPED METAL BOWL         12   \n",
       "541886    581585     22398          MAGNETS PACK OF 4 SWALLOWS        12   \n",
       "541887    581585     23328  SET 6 SCHOOL MILK BOTTLES IN CRATE         4   \n",
       "\n",
       "               InvoiceDate  UnitPrice  CustomerID         Country  \n",
       "541880 2011-12-09 12:31:00       3.75     15804.0  United Kingdom  \n",
       "541881 2011-12-09 12:31:00       0.85     15804.0  United Kingdom  \n",
       "541882 2011-12-09 12:31:00       0.42     15804.0  United Kingdom  \n",
       "541883 2011-12-09 12:31:00       0.42     15804.0  United Kingdom  \n",
       "541884 2011-12-09 12:31:00       1.25     15804.0  United Kingdom  \n",
       "541885 2011-12-09 12:31:00       0.85     15804.0  United Kingdom  \n",
       "541886 2011-12-09 12:31:00       0.39     15804.0  United Kingdom  \n",
       "541887 2011-12-09 12:31:00       3.75     15804.0  United Kingdom  "
      ]
     },
     "execution_count": 11,
     "metadata": {},
     "output_type": "execute_result"
    }
   ],
   "source": [
    "row = df.iloc[541880:541888]\n",
    "row"
   ]
  },
  {
   "cell_type": "code",
   "execution_count": 12,
   "metadata": {},
   "outputs": [
    {
     "data": {
      "text/plain": [
       "[17850.0,\n",
       " 17850.0,\n",
       " 17850.0,\n",
       " 17850.0,\n",
       " 17850.0,\n",
       " 17850.0,\n",
       " 17850.0,\n",
       " 17850.0,\n",
       " 17850.0,\n",
       " 13047.0,\n",
       " 13047.0,\n",
       " 13047.0,\n",
       " 13047.0,\n",
       " 13047.0,\n",
       " 13047.0,\n",
       " 13047.0,\n",
       " 13047.0,\n",
       " 13047.0,\n",
       " 13047.0,\n",
       " 13047.0,\n",
       " 13047.0,\n",
       " 13047.0,\n",
       " 13047.0,\n",
       " 13047.0,\n",
       " 13047.0,\n",
       " 13047.0,\n",
       " 12583.0,\n",
       " 12583.0,\n",
       " 12583.0,\n",
       " 12583.0,\n",
       " 12583.0,\n",
       " 12583.0,\n",
       " 12583.0,\n",
       " 12583.0,\n",
       " 12583.0,\n",
       " 12583.0,\n",
       " 12583.0,\n",
       " 12583.0,\n",
       " 12583.0,\n",
       " 12583.0,\n",
       " 12583.0,\n",
       " 12583.0,\n",
       " 12583.0,\n",
       " 12583.0,\n",
       " 12583.0,\n",
       " 12583.0,\n",
       " 13748.0,\n",
       " 17850.0,\n",
       " 17850.0,\n",
       " 17850.0,\n",
       " 17850.0,\n",
       " 17850.0,\n",
       " 17850.0,\n",
       " 17850.0,\n",
       " 17850.0,\n",
       " 17850.0,\n",
       " 17850.0,\n",
       " 17850.0,\n",
       " 17850.0,\n",
       " 17850.0,\n",
       " 17850.0,\n",
       " 17850.0,\n",
       " 17850.0,\n",
       " 17850.0,\n",
       " 17850.0,\n",
       " 15100.0,\n",
       " 17850.0,\n",
       " 17850.0,\n",
       " 17850.0,\n",
       " 17850.0,\n",
       " 17850.0,\n",
       " 17850.0,\n",
       " 17850.0,\n",
       " 17850.0,\n",
       " 17850.0,\n",
       " 17850.0,\n",
       " 17850.0,\n",
       " 17850.0,\n",
       " 17850.0,\n",
       " 17850.0,\n",
       " 17850.0,\n",
       " 17850.0,\n",
       " 15291.0,\n",
       " 15291.0,\n",
       " 17850.0,\n",
       " 17850.0,\n",
       " 14688.0,\n",
       " 14688.0,\n",
       " 14688.0,\n",
       " 14688.0,\n",
       " 14688.0,\n",
       " 14688.0,\n",
       " 14688.0,\n",
       " 14688.0,\n",
       " 14688.0,\n",
       " 14688.0,\n",
       " 14688.0,\n",
       " 14688.0,\n",
       " 14688.0,\n",
       " 14688.0,\n",
       " 14688.0,\n",
       " 14688.0,\n",
       " 14688.0,\n",
       " 14688.0,\n",
       " 14688.0,\n",
       " 17809.0,\n",
       " 15311.0,\n",
       " 15311.0,\n",
       " 15311.0,\n",
       " 15311.0,\n",
       " 15311.0,\n",
       " 15311.0,\n",
       " 15311.0,\n",
       " 15311.0,\n",
       " 15311.0,\n",
       " 15311.0,\n",
       " 15311.0,\n",
       " 15311.0,\n",
       " 15311.0,\n",
       " 15311.0,\n",
       " 15311.0,\n",
       " 15311.0,\n",
       " 15311.0,\n",
       " 15311.0,\n",
       " 15311.0,\n",
       " 15311.0,\n",
       " 15311.0,\n",
       " 15311.0,\n",
       " 15311.0,\n",
       " 15311.0,\n",
       " 15311.0,\n",
       " 15311.0,\n",
       " 15311.0,\n",
       " 15311.0,\n",
       " 15311.0,\n",
       " 15311.0,\n",
       " 15311.0,\n",
       " 15311.0,\n",
       " 15311.0,\n",
       " 15311.0,\n",
       " 15311.0,\n",
       " 14527.0,\n",
       " 16098.0,\n",
       " 16098.0,\n",
       " 16098.0,\n",
       " 16098.0,\n",
       " 16098.0,\n",
       " 16098.0,\n",
       " 16098.0,\n",
       " 16098.0,\n",
       " 16098.0,\n",
       " 16098.0,\n",
       " 16098.0,\n",
       " 16098.0,\n",
       " 15311.0,\n",
       " 18074.0,\n",
       " 18074.0,\n",
       " 18074.0,\n",
       " 18074.0,\n",
       " 18074.0,\n",
       " 18074.0,\n",
       " 18074.0,\n",
       " 18074.0,\n",
       " 18074.0,\n",
       " 18074.0,\n",
       " 18074.0,\n",
       " 18074.0,\n",
       " 18074.0,\n",
       " 17420.0,\n",
       " 17420.0,\n",
       " 17420.0,\n",
       " 17420.0,\n",
       " 17420.0,\n",
       " 17420.0,\n",
       " 17420.0,\n",
       " 16029.0,\n",
       " 16029.0,\n",
       " 16029.0,\n",
       " 16029.0,\n",
       " 16029.0,\n",
       " 16029.0,\n",
       " 16029.0,\n",
       " 16029.0,\n",
       " 16250.0,\n",
       " 16250.0,\n",
       " 16250.0,\n",
       " 16250.0,\n",
       " 16250.0,\n",
       " 16250.0,\n",
       " 16250.0,\n",
       " 16250.0,\n",
       " 16250.0,\n",
       " 16250.0,\n",
       " 16250.0,\n",
       " 16250.0,\n",
       " 16250.0,\n",
       " 16250.0,\n",
       " 12431.0,\n",
       " 12431.0,\n",
       " 12431.0,\n",
       " 12431.0,\n",
       " 12431.0,\n",
       " 12431.0,\n",
       " 12431.0,\n",
       " 12431.0,\n",
       " 12431.0,\n",
       " 12431.0,\n",
       " 12431.0,\n",
       " 12431.0,\n",
       " 12431.0,\n",
       " 12431.0,\n",
       " 17511.0,\n",
       " 17511.0,\n",
       " 17511.0,\n",
       " 17511.0,\n",
       " 17511.0,\n",
       " 17511.0,\n",
       " 17511.0,\n",
       " 17511.0,\n",
       " 17511.0,\n",
       " 17511.0,\n",
       " 17511.0,\n",
       " 17511.0,\n",
       " 17511.0,\n",
       " 17511.0,\n",
       " 17511.0,\n",
       " 17511.0,\n",
       " 17511.0,\n",
       " 17511.0,\n",
       " 17511.0,\n",
       " 17511.0,\n",
       " 17511.0,\n",
       " 17511.0,\n",
       " 17511.0,\n",
       " 17511.0,\n",
       " 17548.0,\n",
       " 17548.0,\n",
       " 17548.0,\n",
       " 17548.0,\n",
       " 17548.0,\n",
       " 17548.0,\n",
       " 17548.0,\n",
       " 13705.0,\n",
       " 13705.0,\n",
       " 13705.0,\n",
       " 13705.0,\n",
       " 13705.0,\n",
       " 13705.0,\n",
       " 13705.0,\n",
       " 13705.0,\n",
       " 13705.0,\n",
       " 13705.0,\n",
       " 13747.0,\n",
       " 13408.0,\n",
       " 13408.0,\n",
       " 13408.0,\n",
       " 13408.0,\n",
       " 13408.0,\n",
       " 13408.0,\n",
       " 13408.0,\n",
       " 13408.0,\n",
       " 13408.0,\n",
       " 13408.0,\n",
       " 13408.0,\n",
       " 13767.0,\n",
       " 13767.0,\n",
       " 13767.0,\n",
       " 13767.0,\n",
       " 13767.0,\n",
       " 13767.0,\n",
       " 13767.0,\n",
       " 13767.0,\n",
       " 13767.0,\n",
       " 13767.0,\n",
       " 13767.0,\n",
       " 13767.0,\n",
       " 13767.0,\n",
       " 13767.0,\n",
       " 17850.0,\n",
       " 17850.0,\n",
       " 17850.0,\n",
       " 17850.0,\n",
       " 17850.0,\n",
       " 17850.0,\n",
       " 17850.0,\n",
       " 17850.0,\n",
       " 17850.0,\n",
       " 17850.0,\n",
       " 17850.0,\n",
       " 17850.0,\n",
       " 17850.0,\n",
       " 17850.0,\n",
       " 17850.0,\n",
       " 17850.0,\n",
       " 17850.0,\n",
       " 17850.0,\n",
       " 17924.0,\n",
       " 17924.0,\n",
       " 13448.0,\n",
       " 13448.0,\n",
       " 13448.0,\n",
       " 13448.0,\n",
       " 13448.0,\n",
       " 13448.0,\n",
       " 13448.0,\n",
       " 13448.0,\n",
       " 13448.0,\n",
       " 13448.0,\n",
       " 13448.0,\n",
       " 13448.0,\n",
       " 13448.0,\n",
       " 13448.0,\n",
       " 13448.0,\n",
       " 13448.0,\n",
       " 13448.0,\n",
       " 17850.0,\n",
       " 17850.0,\n",
       " 13448.0,\n",
       " 15862.0,\n",
       " 15862.0,\n",
       " 15862.0,\n",
       " 15862.0,\n",
       " 15862.0,\n",
       " 15862.0,\n",
       " 15862.0,\n",
       " 15862.0,\n",
       " 15862.0,\n",
       " 15862.0,\n",
       " 15862.0,\n",
       " 15862.0,\n",
       " 15862.0,\n",
       " 15862.0,\n",
       " 15862.0,\n",
       " 15862.0,\n",
       " 15862.0,\n",
       " 15862.0,\n",
       " 15862.0,\n",
       " 15862.0,\n",
       " 15862.0,\n",
       " 15862.0,\n",
       " 15862.0,\n",
       " 15862.0,\n",
       " 15862.0,\n",
       " 15862.0,\n",
       " 15862.0,\n",
       " 15862.0,\n",
       " 15862.0,\n",
       " 15862.0,\n",
       " 15862.0,\n",
       " 15862.0,\n",
       " 15862.0,\n",
       " 15862.0,\n",
       " 15862.0,\n",
       " 15862.0,\n",
       " 15862.0,\n",
       " 15862.0,\n",
       " 15862.0,\n",
       " 15862.0,\n",
       " 15862.0,\n",
       " 15862.0,\n",
       " 15862.0,\n",
       " 15862.0,\n",
       " 15862.0,\n",
       " 15862.0,\n",
       " 15862.0,\n",
       " 15862.0,\n",
       " 15862.0,\n",
       " 15862.0,\n",
       " 15862.0,\n",
       " 15862.0,\n",
       " 15862.0,\n",
       " 15862.0,\n",
       " 15862.0,\n",
       " 15862.0,\n",
       " 15862.0,\n",
       " 15862.0,\n",
       " 15862.0,\n",
       " 15862.0,\n",
       " 15862.0,\n",
       " 15862.0,\n",
       " 15862.0,\n",
       " 15862.0,\n",
       " 15513.0,\n",
       " 15513.0,\n",
       " 15513.0,\n",
       " 12791.0,\n",
       " 12791.0,\n",
       " 16218.0,\n",
       " 16218.0,\n",
       " 16218.0,\n",
       " 16218.0,\n",
       " 16218.0,\n",
       " 16218.0,\n",
       " 16218.0,\n",
       " 16218.0,\n",
       " 16218.0,\n",
       " 16218.0,\n",
       " 16218.0,\n",
       " 16218.0,\n",
       " 16218.0,\n",
       " 16218.0,\n",
       " 16218.0,\n",
       " 16218.0,\n",
       " 16218.0,\n",
       " 16218.0,\n",
       " 16218.0,\n",
       " 16218.0,\n",
       " 16218.0,\n",
       " 16218.0,\n",
       " 16218.0,\n",
       " 16218.0,\n",
       " 16218.0,\n",
       " 16218.0,\n",
       " 16218.0,\n",
       " 16218.0,\n",
       " 14045.0,\n",
       " 17850.0,\n",
       " 17850.0,\n",
       " 17850.0,\n",
       " 17850.0,\n",
       " 17850.0,\n",
       " 17850.0,\n",
       " 17850.0,\n",
       " 17850.0,\n",
       " 17850.0,\n",
       " 17850.0,\n",
       " 17850.0,\n",
       " 17850.0,\n",
       " 17850.0,\n",
       " 17850.0,\n",
       " 17850.0,\n",
       " 17850.0,\n",
       " 17850.0,\n",
       " 17850.0,\n",
       " 17850.0,\n",
       " 14307.0,\n",
       " 14307.0,\n",
       " 14307.0,\n",
       " 14307.0,\n",
       " 14307.0,\n",
       " 14307.0,\n",
       " 14307.0,\n",
       " 14307.0,\n",
       " 14307.0,\n",
       " 14307.0,\n",
       " 14307.0,\n",
       " 14307.0,\n",
       " 14307.0,\n",
       " 14307.0,\n",
       " 14307.0,\n",
       " 14307.0,\n",
       " 14307.0,\n",
       " 14307.0,\n",
       " 14307.0,\n",
       " 14307.0,\n",
       " 14307.0,\n",
       " 14307.0,\n",
       " 14307.0,\n",
       " 14307.0,\n",
       " 14307.0,\n",
       " 14307.0,\n",
       " 14307.0,\n",
       " 14307.0,\n",
       " 14307.0,\n",
       " 14307.0,\n",
       " 14307.0,\n",
       " 14307.0,\n",
       " 14307.0,\n",
       " 14307.0,\n",
       " 14307.0,\n",
       " 14307.0,\n",
       " 14307.0,\n",
       " 14307.0,\n",
       " 14307.0,\n",
       " 14307.0,\n",
       " 14307.0,\n",
       " 14307.0,\n",
       " 14307.0,\n",
       " 14307.0,\n",
       " 14307.0,\n",
       " 14307.0,\n",
       " 14307.0,\n",
       " 14307.0,\n",
       " 17908.0,\n",
       " 17908.0,\n",
       " 17908.0,\n",
       " 17908.0,\n",
       " 17908.0,\n",
       " 17908.0,\n",
       " 17908.0,\n",
       " 17908.0,\n",
       " 17908.0,\n",
       " 17908.0,\n",
       " 17908.0,\n",
       " 17908.0,\n",
       " 17908.0,\n",
       " 17908.0,\n",
       " 17908.0,\n",
       " 17908.0,\n",
       " 17908.0,\n",
       " 17908.0,\n",
       " 17908.0,\n",
       " 17908.0,\n",
       " 17908.0,\n",
       " 17908.0,\n",
       " 17908.0,\n",
       " 17908.0,\n",
       " 17908.0,\n",
       " 17908.0,\n",
       " 17908.0,\n",
       " 17908.0,\n",
       " 17908.0,\n",
       " 17908.0,\n",
       " 17908.0,\n",
       " 17908.0,\n",
       " 17908.0,\n",
       " 17908.0,\n",
       " 17908.0,\n",
       " 17908.0,\n",
       " 17908.0,\n",
       " 17908.0,\n",
       " 17908.0,\n",
       " 17908.0,\n",
       " 17908.0,\n",
       " 17908.0,\n",
       " 17908.0,\n",
       " 17908.0,\n",
       " 17908.0,\n",
       " 17908.0,\n",
       " 17908.0,\n",
       " 17908.0,\n",
       " 17908.0,\n",
       " 17908.0,\n",
       " 17908.0,\n",
       " 17908.0,\n",
       " 17908.0,\n",
       " 17908.0,\n",
       " 17908.0,\n",
       " 17908.0,\n",
       " 17908.0,\n",
       " 17908.0,\n",
       " 17920.0,\n",
       " 17920.0,\n",
       " 17920.0,\n",
       " 17920.0,\n",
       " 17920.0,\n",
       " 17920.0,\n",
       " 17920.0,\n",
       " 17920.0,\n",
       " 17920.0,\n",
       " 17920.0,\n",
       " 17920.0,\n",
       " 17920.0,\n",
       " 17920.0,\n",
       " 17920.0,\n",
       " 17920.0,\n",
       " 17920.0,\n",
       " 17920.0,\n",
       " 17920.0,\n",
       " 17920.0,\n",
       " 17920.0,\n",
       " 17920.0,\n",
       " 17920.0,\n",
       " 17920.0,\n",
       " 17920.0,\n",
       " 17920.0,\n",
       " 17920.0,\n",
       " 17920.0,\n",
       " 17920.0,\n",
       " 17920.0,\n",
       " 17920.0,\n",
       " 17920.0,\n",
       " 17920.0,\n",
       " 17920.0,\n",
       " 17920.0,\n",
       " 17920.0,\n",
       " 17920.0,\n",
       " 17920.0,\n",
       " 17920.0,\n",
       " 17920.0,\n",
       " 17920.0,\n",
       " 17920.0,\n",
       " 17920.0,\n",
       " 17920.0,\n",
       " 17920.0,\n",
       " 17920.0,\n",
       " 17920.0,\n",
       " 17920.0,\n",
       " 17920.0,\n",
       " 17920.0,\n",
       " 17920.0,\n",
       " 17920.0,\n",
       " 17920.0,\n",
       " 17920.0,\n",
       " 17920.0,\n",
       " 17920.0,\n",
       " 17920.0,\n",
       " 17920.0,\n",
       " 17920.0,\n",
       " 17920.0,\n",
       " 17920.0,\n",
       " 17920.0,\n",
       " 17920.0,\n",
       " 17920.0,\n",
       " 17920.0,\n",
       " 17920.0,\n",
       " 17920.0,\n",
       " 17920.0,\n",
       " 17920.0,\n",
       " 17920.0,\n",
       " 17920.0,\n",
       " 17920.0,\n",
       " 17920.0,\n",
       " 17920.0,\n",
       " 17920.0,\n",
       " 17920.0,\n",
       " 17920.0,\n",
       " 17920.0,\n",
       " 17920.0,\n",
       " 17920.0,\n",
       " 17920.0,\n",
       " 17920.0,\n",
       " nan,\n",
       " 12838.0,\n",
       " 12838.0,\n",
       " 12838.0,\n",
       " 12838.0,\n",
       " 12838.0,\n",
       " 12838.0,\n",
       " 12838.0,\n",
       " 12838.0,\n",
       " 12838.0,\n",
       " 12838.0,\n",
       " 12838.0,\n",
       " 12838.0,\n",
       " 12838.0,\n",
       " 12838.0,\n",
       " 12838.0,\n",
       " 12838.0,\n",
       " 12838.0,\n",
       " 12838.0,\n",
       " 12838.0,\n",
       " 12838.0,\n",
       " 12838.0,\n",
       " 12838.0,\n",
       " 12838.0,\n",
       " 12838.0,\n",
       " 12838.0,\n",
       " 12838.0,\n",
       " 12838.0,\n",
       " 12838.0,\n",
       " 12838.0,\n",
       " 12838.0,\n",
       " 12838.0,\n",
       " 12838.0,\n",
       " 12838.0,\n",
       " 12838.0,\n",
       " 12838.0,\n",
       " 12838.0,\n",
       " 12838.0,\n",
       " 12838.0,\n",
       " 12838.0,\n",
       " 12838.0,\n",
       " 12838.0,\n",
       " 12838.0,\n",
       " 12838.0,\n",
       " 12838.0,\n",
       " 12838.0,\n",
       " 12838.0,\n",
       " 12838.0,\n",
       " 12838.0,\n",
       " 12838.0,\n",
       " 12838.0,\n",
       " 12838.0,\n",
       " 12838.0,\n",
       " 12838.0,\n",
       " 12838.0,\n",
       " 12838.0,\n",
       " 12838.0,\n",
       " 12838.0,\n",
       " 12838.0,\n",
       " 12838.0,\n",
       " 13255.0,\n",
       " 13255.0,\n",
       " 13255.0,\n",
       " 13255.0,\n",
       " 13255.0,\n",
       " 13255.0,\n",
       " 16583.0,\n",
       " 16583.0,\n",
       " 16583.0,\n",
       " 16583.0,\n",
       " 16583.0,\n",
       " 16583.0,\n",
       " 16583.0,\n",
       " 16583.0,\n",
       " 16583.0,\n",
       " 16583.0,\n",
       " 16583.0,\n",
       " 16583.0,\n",
       " 16583.0,\n",
       " 16583.0,\n",
       " 18085.0,\n",
       " 18085.0,\n",
       " 18085.0,\n",
       " 18085.0,\n",
       " 18085.0,\n",
       " 18085.0,\n",
       " 18085.0,\n",
       " 18085.0,\n",
       " 18085.0,\n",
       " 13758.0,\n",
       " 13758.0,\n",
       " 13758.0,\n",
       " 13758.0,\n",
       " 13758.0,\n",
       " 13758.0,\n",
       " 13758.0,\n",
       " 13758.0,\n",
       " 13758.0,\n",
       " 13758.0,\n",
       " 13758.0,\n",
       " 13758.0,\n",
       " 13758.0,\n",
       " 13758.0,\n",
       " 13758.0,\n",
       " 13758.0,\n",
       " 13758.0,\n",
       " 13694.0,\n",
       " 13694.0,\n",
       " 13694.0,\n",
       " 13694.0,\n",
       " 13694.0,\n",
       " 13694.0,\n",
       " 15983.0,\n",
       " 15983.0,\n",
       " 15983.0,\n",
       " 15983.0,\n",
       " 15983.0,\n",
       " 15983.0,\n",
       " 15983.0,\n",
       " 15983.0,\n",
       " 15983.0,\n",
       " 15983.0,\n",
       " 15983.0,\n",
       " 15983.0,\n",
       " 15983.0,\n",
       " 15983.0,\n",
       " 15983.0,\n",
       " 15983.0,\n",
       " 15983.0,\n",
       " 15983.0,\n",
       " 15983.0,\n",
       " 15983.0,\n",
       " 15983.0,\n",
       " 15983.0,\n",
       " 15983.0,\n",
       " 15983.0,\n",
       " 15983.0,\n",
       " 15983.0,\n",
       " 15983.0,\n",
       " 15983.0,\n",
       " 15983.0,\n",
       " 15983.0,\n",
       " 15983.0,\n",
       " 15983.0,\n",
       " 14849.0,\n",
       " 14849.0,\n",
       " 14849.0,\n",
       " 14849.0,\n",
       " 14849.0,\n",
       " 14849.0,\n",
       " 14849.0,\n",
       " 14849.0,\n",
       " 14849.0,\n",
       " 14849.0,\n",
       " 14849.0,\n",
       " 14849.0,\n",
       " 14849.0,\n",
       " 14849.0,\n",
       " 14849.0,\n",
       " 17968.0,\n",
       " 17968.0,\n",
       " 17968.0,\n",
       " 17968.0,\n",
       " 17968.0,\n",
       " 17968.0,\n",
       " 17968.0,\n",
       " 17968.0,\n",
       " 17968.0,\n",
       " 17968.0,\n",
       " 17968.0,\n",
       " 17968.0,\n",
       " 17968.0,\n",
       " 17968.0,\n",
       " 17968.0,\n",
       " 17968.0,\n",
       " 17968.0,\n",
       " 17968.0,\n",
       " 17968.0,\n",
       " 17968.0,\n",
       " 17968.0,\n",
       " 17968.0,\n",
       " 17968.0,\n",
       " 17968.0,\n",
       " 17968.0,\n",
       " 17968.0,\n",
       " 17968.0,\n",
       " 17968.0,\n",
       " 17968.0,\n",
       " 17968.0,\n",
       " 17968.0,\n",
       " 17968.0,\n",
       " 17968.0,\n",
       " 17968.0,\n",
       " 17968.0,\n",
       " 17968.0,\n",
       " 17968.0,\n",
       " 17968.0,\n",
       " 17968.0,\n",
       " 17968.0,\n",
       " 17968.0,\n",
       " 17968.0,\n",
       " 17968.0,\n",
       " 17968.0,\n",
       " 17968.0,\n",
       " 17968.0,\n",
       " 17968.0,\n",
       " 17968.0,\n",
       " 17968.0,\n",
       " 17968.0,\n",
       " 17968.0,\n",
       " 17968.0,\n",
       " 17968.0,\n",
       " 17968.0,\n",
       " 17968.0,\n",
       " 17968.0,\n",
       " 17968.0,\n",
       " 17968.0,\n",
       " 17968.0,\n",
       " 17968.0,\n",
       " 17968.0,\n",
       " 17968.0,\n",
       " 17968.0,\n",
       " 17968.0,\n",
       " 17968.0,\n",
       " 17968.0,\n",
       " 17968.0,\n",
       " 17968.0,\n",
       " 17968.0,\n",
       " 17968.0,\n",
       " 17968.0,\n",
       " 17968.0,\n",
       " 17968.0,\n",
       " 17968.0,\n",
       " 17968.0,\n",
       " 17968.0,\n",
       " 17968.0,\n",
       " 17968.0,\n",
       " 17968.0,\n",
       " 17968.0,\n",
       " 17968.0,\n",
       " 17968.0,\n",
       " 17968.0,\n",
       " 17968.0,\n",
       " 17968.0,\n",
       " 14849.0,\n",
       " 14849.0,\n",
       " 16210.0,\n",
       " 16210.0,\n",
       " 16210.0,\n",
       " 16210.0,\n",
       " 16210.0,\n",
       " 16210.0,\n",
       " 16210.0,\n",
       " 16210.0,\n",
       " 16210.0,\n",
       " 16210.0,\n",
       " 16210.0,\n",
       " 16210.0,\n",
       " 16210.0,\n",
       " 16210.0,\n",
       " 17897.0,\n",
       " 17897.0,\n",
       " 17897.0,\n",
       " 17897.0,\n",
       " 17897.0,\n",
       " 17897.0,\n",
       " 17897.0,\n",
       " 17897.0,\n",
       " 17897.0,\n",
       " 17897.0,\n",
       " 17897.0,\n",
       " 17897.0,\n",
       " 17897.0,\n",
       " 17897.0,\n",
       " 17897.0,\n",
       " 17897.0,\n",
       " 17897.0,\n",
       " 17897.0,\n",
       " 17897.0,\n",
       " 17897.0,\n",
       " 17897.0,\n",
       " 17897.0,\n",
       " 17897.0,\n",
       " 17897.0,\n",
       " 17897.0,\n",
       " 17897.0,\n",
       " 17897.0,\n",
       " 17897.0,\n",
       " 17897.0,\n",
       " 17897.0,\n",
       " 17897.0,\n",
       " 17897.0,\n",
       " 17897.0,\n",
       " 17897.0,\n",
       " 17897.0,\n",
       " 17377.0,\n",
       " 17377.0,\n",
       " 17377.0,\n",
       " 17377.0,\n",
       " 17377.0,\n",
       " 17377.0,\n",
       " 17377.0,\n",
       " 17377.0,\n",
       " 17377.0,\n",
       " 17377.0,\n",
       " 17377.0,\n",
       " 17377.0,\n",
       " 17377.0,\n",
       " 17377.0,\n",
       " 17377.0,\n",
       " 16552.0,\n",
       " 16552.0,\n",
       " 16552.0,\n",
       " 16552.0,\n",
       " 16552.0,\n",
       " 17181.0,\n",
       " 17181.0,\n",
       " 17897.0,\n",
       " 17951.0,\n",
       " 17951.0,\n",
       " 17951.0,\n",
       " 17951.0,\n",
       " 17951.0,\n",
       " 14729.0,\n",
       " 14729.0,\n",
       " 14729.0,\n",
       " 14729.0,\n",
       " 14729.0,\n",
       " 14729.0,\n",
       " 14729.0,\n",
       " 14729.0,\n",
       " 14729.0,\n",
       " 14729.0,\n",
       " 14729.0,\n",
       " 14729.0,\n",
       " 14729.0,\n",
       " 14729.0,\n",
       " 14729.0,\n",
       " 14729.0,\n",
       " 14729.0,\n",
       " 14729.0,\n",
       " 14729.0,\n",
       " 14729.0,\n",
       " 14729.0,\n",
       " 14729.0,\n",
       " 14729.0,\n",
       " 14729.0,\n",
       " 14729.0,\n",
       " 14729.0,\n",
       " 14729.0,\n",
       " 14729.0,\n",
       " 14729.0,\n",
       " 14729.0,\n",
       " 14729.0,\n",
       " 14729.0,\n",
       " 14729.0,\n",
       " 14729.0,\n",
       " 14729.0,\n",
       " 14729.0,\n",
       " 14729.0,\n",
       " 14729.0,\n",
       " 14729.0,\n",
       " 14729.0,\n",
       " 14729.0,\n",
       " 14729.0,\n",
       " 14729.0,\n",
       " 14729.0,\n",
       " 14729.0,\n",
       " 14729.0,\n",
       " 14729.0,\n",
       " 14729.0,\n",
       " 14729.0,\n",
       " 14729.0,\n",
       " 14729.0,\n",
       " 14729.0,\n",
       " 14729.0,\n",
       " 14729.0,\n",
       " 14729.0,\n",
       " ...]"
      ]
     },
     "execution_count": 12,
     "metadata": {},
     "output_type": "execute_result"
    }
   ],
   "source": [
    "customerID = list(df['CustomerID'])\n",
    "customerID"
   ]
  },
  {
   "cell_type": "code",
   "execution_count": 13,
   "metadata": {},
   "outputs": [
    {
     "data": {
      "text/html": [
       "<div>\n",
       "<style scoped>\n",
       "    .dataframe tbody tr th:only-of-type {\n",
       "        vertical-align: middle;\n",
       "    }\n",
       "\n",
       "    .dataframe tbody tr th {\n",
       "        vertical-align: top;\n",
       "    }\n",
       "\n",
       "    .dataframe thead th {\n",
       "        text-align: right;\n",
       "    }\n",
       "</style>\n",
       "<table border=\"1\" class=\"dataframe\">\n",
       "  <thead>\n",
       "    <tr style=\"text-align: right;\">\n",
       "      <th></th>\n",
       "      <th>StockCode</th>\n",
       "      <th>Description</th>\n",
       "    </tr>\n",
       "  </thead>\n",
       "  <tbody>\n",
       "    <tr>\n",
       "      <th>0</th>\n",
       "      <td>85123A</td>\n",
       "      <td>WHITE HANGING HEART T-LIGHT HOLDER</td>\n",
       "    </tr>\n",
       "    <tr>\n",
       "      <th>1</th>\n",
       "      <td>71053</td>\n",
       "      <td>WHITE METAL LANTERN</td>\n",
       "    </tr>\n",
       "    <tr>\n",
       "      <th>2</th>\n",
       "      <td>84406B</td>\n",
       "      <td>CREAM CUPID HEARTS COAT HANGER</td>\n",
       "    </tr>\n",
       "    <tr>\n",
       "      <th>3</th>\n",
       "      <td>84029G</td>\n",
       "      <td>KNITTED UNION FLAG HOT WATER BOTTLE</td>\n",
       "    </tr>\n",
       "    <tr>\n",
       "      <th>4</th>\n",
       "      <td>84029E</td>\n",
       "      <td>RED WOOLLY HOTTIE WHITE HEART.</td>\n",
       "    </tr>\n",
       "    <tr>\n",
       "      <th>...</th>\n",
       "      <td>...</td>\n",
       "      <td>...</td>\n",
       "    </tr>\n",
       "    <tr>\n",
       "      <th>541904</th>\n",
       "      <td>22613</td>\n",
       "      <td>PACK OF 20 SPACEBOY NAPKINS</td>\n",
       "    </tr>\n",
       "    <tr>\n",
       "      <th>541905</th>\n",
       "      <td>22899</td>\n",
       "      <td>CHILDREN'S APRON DOLLY GIRL</td>\n",
       "    </tr>\n",
       "    <tr>\n",
       "      <th>541906</th>\n",
       "      <td>23254</td>\n",
       "      <td>CHILDRENS CUTLERY DOLLY GIRL</td>\n",
       "    </tr>\n",
       "    <tr>\n",
       "      <th>541907</th>\n",
       "      <td>23255</td>\n",
       "      <td>CHILDRENS CUTLERY CIRCUS PARADE</td>\n",
       "    </tr>\n",
       "    <tr>\n",
       "      <th>541908</th>\n",
       "      <td>22138</td>\n",
       "      <td>BAKING SET 9 PIECE RETROSPOT</td>\n",
       "    </tr>\n",
       "  </tbody>\n",
       "</table>\n",
       "<p>541909 rows × 2 columns</p>\n",
       "</div>"
      ],
      "text/plain": [
       "       StockCode                          Description\n",
       "0         85123A   WHITE HANGING HEART T-LIGHT HOLDER\n",
       "1          71053                  WHITE METAL LANTERN\n",
       "2         84406B       CREAM CUPID HEARTS COAT HANGER\n",
       "3         84029G  KNITTED UNION FLAG HOT WATER BOTTLE\n",
       "4         84029E       RED WOOLLY HOTTIE WHITE HEART.\n",
       "...          ...                                  ...\n",
       "541904     22613          PACK OF 20 SPACEBOY NAPKINS\n",
       "541905     22899         CHILDREN'S APRON DOLLY GIRL \n",
       "541906     23254        CHILDRENS CUTLERY DOLLY GIRL \n",
       "541907     23255      CHILDRENS CUTLERY CIRCUS PARADE\n",
       "541908     22138        BAKING SET 9 PIECE RETROSPOT \n",
       "\n",
       "[541909 rows x 2 columns]"
      ]
     },
     "execution_count": 13,
     "metadata": {},
     "output_type": "execute_result"
    }
   ],
   "source": [
    "columns = df[[ 'StockCode', 'Description']]\n",
    "columns"
   ]
  },
  {
   "cell_type": "code",
   "execution_count": 14,
   "metadata": {},
   "outputs": [
    {
     "data": {
      "text/plain": [
       "Index(['InvoiceNo', 'StockCode', 'Description', 'Quantity', 'InvoiceDate',\n",
       "       'UnitPrice', 'CustomerID', 'Country'],\n",
       "      dtype='object')"
      ]
     },
     "execution_count": 14,
     "metadata": {},
     "output_type": "execute_result"
    }
   ],
   "source": [
    "#Data Preprocessing - handling missing values, converting data types to numeric\n",
    "\n",
    "df.columns"
   ]
  },
  {
   "cell_type": "code",
   "execution_count": 15,
   "metadata": {},
   "outputs": [
    {
     "data": {
      "text/html": [
       "<div>\n",
       "<style scoped>\n",
       "    .dataframe tbody tr th:only-of-type {\n",
       "        vertical-align: middle;\n",
       "    }\n",
       "\n",
       "    .dataframe tbody tr th {\n",
       "        vertical-align: top;\n",
       "    }\n",
       "\n",
       "    .dataframe thead th {\n",
       "        text-align: right;\n",
       "    }\n",
       "</style>\n",
       "<table border=\"1\" class=\"dataframe\">\n",
       "  <thead>\n",
       "    <tr style=\"text-align: right;\">\n",
       "      <th></th>\n",
       "      <th>Country</th>\n",
       "      <th>Quantity</th>\n",
       "    </tr>\n",
       "  </thead>\n",
       "  <tbody>\n",
       "    <tr>\n",
       "      <th>0</th>\n",
       "      <td>United Kingdom</td>\n",
       "      <td>6</td>\n",
       "    </tr>\n",
       "    <tr>\n",
       "      <th>1</th>\n",
       "      <td>United Kingdom</td>\n",
       "      <td>6</td>\n",
       "    </tr>\n",
       "    <tr>\n",
       "      <th>2</th>\n",
       "      <td>United Kingdom</td>\n",
       "      <td>8</td>\n",
       "    </tr>\n",
       "    <tr>\n",
       "      <th>3</th>\n",
       "      <td>United Kingdom</td>\n",
       "      <td>6</td>\n",
       "    </tr>\n",
       "    <tr>\n",
       "      <th>4</th>\n",
       "      <td>United Kingdom</td>\n",
       "      <td>6</td>\n",
       "    </tr>\n",
       "    <tr>\n",
       "      <th>...</th>\n",
       "      <td>...</td>\n",
       "      <td>...</td>\n",
       "    </tr>\n",
       "    <tr>\n",
       "      <th>541904</th>\n",
       "      <td>France</td>\n",
       "      <td>12</td>\n",
       "    </tr>\n",
       "    <tr>\n",
       "      <th>541905</th>\n",
       "      <td>France</td>\n",
       "      <td>6</td>\n",
       "    </tr>\n",
       "    <tr>\n",
       "      <th>541906</th>\n",
       "      <td>France</td>\n",
       "      <td>4</td>\n",
       "    </tr>\n",
       "    <tr>\n",
       "      <th>541907</th>\n",
       "      <td>France</td>\n",
       "      <td>4</td>\n",
       "    </tr>\n",
       "    <tr>\n",
       "      <th>541908</th>\n",
       "      <td>France</td>\n",
       "      <td>3</td>\n",
       "    </tr>\n",
       "  </tbody>\n",
       "</table>\n",
       "<p>541909 rows × 2 columns</p>\n",
       "</div>"
      ],
      "text/plain": [
       "               Country  Quantity\n",
       "0       United Kingdom         6\n",
       "1       United Kingdom         6\n",
       "2       United Kingdom         8\n",
       "3       United Kingdom         6\n",
       "4       United Kingdom         6\n",
       "...                ...       ...\n",
       "541904          France        12\n",
       "541905          France         6\n",
       "541906          France         4\n",
       "541907          France         4\n",
       "541908          France         3\n",
       "\n",
       "[541909 rows x 2 columns]"
      ]
     },
     "execution_count": 15,
     "metadata": {},
     "output_type": "execute_result"
    }
   ],
   "source": [
    "columns = df[['Country', 'Quantity']]\n",
    "columns"
   ]
  },
  {
   "cell_type": "code",
   "execution_count": 16,
   "metadata": {},
   "outputs": [
    {
     "data": {
      "text/plain": [
       "Series([], Name: Country, dtype: object)"
      ]
     },
     "execution_count": 16,
     "metadata": {},
     "output_type": "execute_result"
    }
   ],
   "source": [
    "zero_quantity = df['Quantity'] == 0\n",
    "countries_0_quantity = df.loc[zero_quantity, 'Country']\n",
    "countries_0_quantity"
   ]
  },
  {
   "cell_type": "code",
   "execution_count": 17,
   "metadata": {},
   "outputs": [
    {
     "data": {
      "text/plain": [
       "0         United Kingdom\n",
       "1         United Kingdom\n",
       "2         United Kingdom\n",
       "3         United Kingdom\n",
       "4         United Kingdom\n",
       "               ...      \n",
       "541904            France\n",
       "541905            France\n",
       "541906            France\n",
       "541907            France\n",
       "541908            France\n",
       "Name: Country, Length: 531285, dtype: object"
      ]
     },
     "execution_count": 17,
     "metadata": {},
     "output_type": "execute_result"
    }
   ],
   "source": [
    "zero_quantity = df['Quantity'] >= 0\n",
    "countries_0_quantity = df.loc[zero_quantity, 'Country']\n",
    "countries_0_quantity"
   ]
  },
  {
   "cell_type": "code",
   "execution_count": 18,
   "metadata": {},
   "outputs": [
    {
     "data": {
      "text/html": [
       "<div>\n",
       "<style scoped>\n",
       "    .dataframe tbody tr th:only-of-type {\n",
       "        vertical-align: middle;\n",
       "    }\n",
       "\n",
       "    .dataframe tbody tr th {\n",
       "        vertical-align: top;\n",
       "    }\n",
       "\n",
       "    .dataframe thead th {\n",
       "        text-align: right;\n",
       "    }\n",
       "</style>\n",
       "<table border=\"1\" class=\"dataframe\">\n",
       "  <thead>\n",
       "    <tr style=\"text-align: right;\">\n",
       "      <th></th>\n",
       "      <th>InvoiceNo</th>\n",
       "      <th>StockCode</th>\n",
       "      <th>Description</th>\n",
       "      <th>Quantity</th>\n",
       "      <th>InvoiceDate</th>\n",
       "      <th>UnitPrice</th>\n",
       "      <th>CustomerID</th>\n",
       "      <th>Country</th>\n",
       "    </tr>\n",
       "  </thead>\n",
       "  <tbody>\n",
       "    <tr>\n",
       "      <th>0</th>\n",
       "      <td>536365</td>\n",
       "      <td>85123A</td>\n",
       "      <td>WHITE HANGING HEART T-LIGHT HOLDER</td>\n",
       "      <td>6</td>\n",
       "      <td>2010-12-01 08:26:00</td>\n",
       "      <td>2.55</td>\n",
       "      <td>17850.0</td>\n",
       "      <td>United Kingdom</td>\n",
       "    </tr>\n",
       "    <tr>\n",
       "      <th>1</th>\n",
       "      <td>536365</td>\n",
       "      <td>71053</td>\n",
       "      <td>WHITE METAL LANTERN</td>\n",
       "      <td>6</td>\n",
       "      <td>2010-12-01 08:26:00</td>\n",
       "      <td>3.39</td>\n",
       "      <td>17850.0</td>\n",
       "      <td>United Kingdom</td>\n",
       "    </tr>\n",
       "  </tbody>\n",
       "</table>\n",
       "</div>"
      ],
      "text/plain": [
       "  InvoiceNo StockCode                         Description  Quantity  \\\n",
       "0    536365    85123A  WHITE HANGING HEART T-LIGHT HOLDER         6   \n",
       "1    536365     71053                 WHITE METAL LANTERN         6   \n",
       "\n",
       "          InvoiceDate  UnitPrice  CustomerID         Country  \n",
       "0 2010-12-01 08:26:00       2.55     17850.0  United Kingdom  \n",
       "1 2010-12-01 08:26:00       3.39     17850.0  United Kingdom  "
      ]
     },
     "execution_count": 18,
     "metadata": {},
     "output_type": "execute_result"
    }
   ],
   "source": [
    "df['InvoiceDate'] = pd.to_datetime(df['InvoiceDate'])\n",
    "df.head(2)"
   ]
  },
  {
   "cell_type": "code",
   "execution_count": 19,
   "metadata": {},
   "outputs": [
    {
     "data": {
      "text/html": [
       "<div>\n",
       "<style scoped>\n",
       "    .dataframe tbody tr th:only-of-type {\n",
       "        vertical-align: middle;\n",
       "    }\n",
       "\n",
       "    .dataframe tbody tr th {\n",
       "        vertical-align: top;\n",
       "    }\n",
       "\n",
       "    .dataframe thead th {\n",
       "        text-align: right;\n",
       "    }\n",
       "</style>\n",
       "<table border=\"1\" class=\"dataframe\">\n",
       "  <thead>\n",
       "    <tr style=\"text-align: right;\">\n",
       "      <th></th>\n",
       "      <th>InvoiceNo</th>\n",
       "      <th>StockCode</th>\n",
       "      <th>Description</th>\n",
       "      <th>Quantity</th>\n",
       "      <th>InvoiceDate</th>\n",
       "      <th>UnitPrice</th>\n",
       "      <th>CustomerID</th>\n",
       "      <th>Country</th>\n",
       "    </tr>\n",
       "  </thead>\n",
       "  <tbody>\n",
       "    <tr>\n",
       "      <th>0</th>\n",
       "      <td>536365</td>\n",
       "      <td>85123A</td>\n",
       "      <td>WHITE HANGING HEART T-LIGHT HOLDER</td>\n",
       "      <td>6</td>\n",
       "      <td>2010-12-01 08:26:00</td>\n",
       "      <td>2.55</td>\n",
       "      <td>17850.0</td>\n",
       "      <td>United Kingdom</td>\n",
       "    </tr>\n",
       "    <tr>\n",
       "      <th>7</th>\n",
       "      <td>536366</td>\n",
       "      <td>22633</td>\n",
       "      <td>HAND WARMER UNION JACK</td>\n",
       "      <td>6</td>\n",
       "      <td>2010-12-01 08:28:00</td>\n",
       "      <td>1.85</td>\n",
       "      <td>17850.0</td>\n",
       "      <td>United Kingdom</td>\n",
       "    </tr>\n",
       "    <tr>\n",
       "      <th>9</th>\n",
       "      <td>536367</td>\n",
       "      <td>84879</td>\n",
       "      <td>ASSORTED COLOUR BIRD ORNAMENT</td>\n",
       "      <td>32</td>\n",
       "      <td>2010-12-01 08:34:00</td>\n",
       "      <td>1.69</td>\n",
       "      <td>13047.0</td>\n",
       "      <td>United Kingdom</td>\n",
       "    </tr>\n",
       "    <tr>\n",
       "      <th>21</th>\n",
       "      <td>536368</td>\n",
       "      <td>22960</td>\n",
       "      <td>JAM MAKING SET WITH JARS</td>\n",
       "      <td>6</td>\n",
       "      <td>2010-12-01 08:34:00</td>\n",
       "      <td>4.25</td>\n",
       "      <td>13047.0</td>\n",
       "      <td>United Kingdom</td>\n",
       "    </tr>\n",
       "    <tr>\n",
       "      <th>25</th>\n",
       "      <td>536369</td>\n",
       "      <td>21756</td>\n",
       "      <td>BATH BUILDING BLOCK WORD</td>\n",
       "      <td>3</td>\n",
       "      <td>2010-12-01 08:35:00</td>\n",
       "      <td>5.95</td>\n",
       "      <td>13047.0</td>\n",
       "      <td>United Kingdom</td>\n",
       "    </tr>\n",
       "    <tr>\n",
       "      <th>26</th>\n",
       "      <td>536370</td>\n",
       "      <td>22728</td>\n",
       "      <td>ALARM CLOCK BAKELIKE PINK</td>\n",
       "      <td>24</td>\n",
       "      <td>2010-12-01 08:45:00</td>\n",
       "      <td>3.75</td>\n",
       "      <td>12583.0</td>\n",
       "      <td>France</td>\n",
       "    </tr>\n",
       "    <tr>\n",
       "      <th>46</th>\n",
       "      <td>536371</td>\n",
       "      <td>22086</td>\n",
       "      <td>PAPER CHAIN KIT 50'S CHRISTMAS</td>\n",
       "      <td>80</td>\n",
       "      <td>2010-12-01 09:00:00</td>\n",
       "      <td>2.55</td>\n",
       "      <td>13748.0</td>\n",
       "      <td>United Kingdom</td>\n",
       "    </tr>\n",
       "    <tr>\n",
       "      <th>47</th>\n",
       "      <td>536372</td>\n",
       "      <td>22632</td>\n",
       "      <td>HAND WARMER RED POLKA DOT</td>\n",
       "      <td>6</td>\n",
       "      <td>2010-12-01 09:01:00</td>\n",
       "      <td>1.85</td>\n",
       "      <td>17850.0</td>\n",
       "      <td>United Kingdom</td>\n",
       "    </tr>\n",
       "    <tr>\n",
       "      <th>49</th>\n",
       "      <td>536373</td>\n",
       "      <td>85123A</td>\n",
       "      <td>WHITE HANGING HEART T-LIGHT HOLDER</td>\n",
       "      <td>6</td>\n",
       "      <td>2010-12-01 09:02:00</td>\n",
       "      <td>2.55</td>\n",
       "      <td>17850.0</td>\n",
       "      <td>United Kingdom</td>\n",
       "    </tr>\n",
       "    <tr>\n",
       "      <th>65</th>\n",
       "      <td>536374</td>\n",
       "      <td>21258</td>\n",
       "      <td>VICTORIAN SEWING BOX LARGE</td>\n",
       "      <td>32</td>\n",
       "      <td>2010-12-01 09:09:00</td>\n",
       "      <td>10.95</td>\n",
       "      <td>15100.0</td>\n",
       "      <td>United Kingdom</td>\n",
       "    </tr>\n",
       "  </tbody>\n",
       "</table>\n",
       "</div>"
      ],
      "text/plain": [
       "   InvoiceNo StockCode                         Description  Quantity  \\\n",
       "0     536365    85123A  WHITE HANGING HEART T-LIGHT HOLDER         6   \n",
       "7     536366     22633              HAND WARMER UNION JACK         6   \n",
       "9     536367     84879       ASSORTED COLOUR BIRD ORNAMENT        32   \n",
       "21    536368     22960            JAM MAKING SET WITH JARS         6   \n",
       "25    536369     21756            BATH BUILDING BLOCK WORD         3   \n",
       "26    536370     22728           ALARM CLOCK BAKELIKE PINK        24   \n",
       "46    536371     22086     PAPER CHAIN KIT 50'S CHRISTMAS         80   \n",
       "47    536372     22632           HAND WARMER RED POLKA DOT         6   \n",
       "49    536373    85123A  WHITE HANGING HEART T-LIGHT HOLDER         6   \n",
       "65    536374     21258          VICTORIAN SEWING BOX LARGE        32   \n",
       "\n",
       "           InvoiceDate  UnitPrice  CustomerID         Country  \n",
       "0  2010-12-01 08:26:00       2.55     17850.0  United Kingdom  \n",
       "7  2010-12-01 08:28:00       1.85     17850.0  United Kingdom  \n",
       "9  2010-12-01 08:34:00       1.69     13047.0  United Kingdom  \n",
       "21 2010-12-01 08:34:00       4.25     13047.0  United Kingdom  \n",
       "25 2010-12-01 08:35:00       5.95     13047.0  United Kingdom  \n",
       "26 2010-12-01 08:45:00       3.75     12583.0          France  \n",
       "46 2010-12-01 09:00:00       2.55     13748.0  United Kingdom  \n",
       "47 2010-12-01 09:01:00       1.85     17850.0  United Kingdom  \n",
       "49 2010-12-01 09:02:00       2.55     17850.0  United Kingdom  \n",
       "65 2010-12-01 09:09:00      10.95     15100.0  United Kingdom  "
      ]
     },
     "execution_count": 19,
     "metadata": {},
     "output_type": "execute_result"
    }
   ],
   "source": [
    "df = df.drop_duplicates(subset=['CustomerID', 'InvoiceNo'], keep = 'first')\n",
    "df.head(10)"
   ]
  },
  {
   "cell_type": "code",
   "execution_count": 22,
   "metadata": {},
   "outputs": [
    {
     "data": {
      "text/html": [
       "<div>\n",
       "<style scoped>\n",
       "    .dataframe tbody tr th:only-of-type {\n",
       "        vertical-align: middle;\n",
       "    }\n",
       "\n",
       "    .dataframe tbody tr th {\n",
       "        vertical-align: top;\n",
       "    }\n",
       "\n",
       "    .dataframe thead th {\n",
       "        text-align: right;\n",
       "    }\n",
       "</style>\n",
       "<table border=\"1\" class=\"dataframe\">\n",
       "  <thead>\n",
       "    <tr style=\"text-align: right;\">\n",
       "      <th></th>\n",
       "      <th>InvoiceNo</th>\n",
       "      <th>StockCode</th>\n",
       "      <th>Description</th>\n",
       "      <th>Quantity</th>\n",
       "      <th>InvoiceDate</th>\n",
       "      <th>UnitPrice</th>\n",
       "      <th>CustomerID</th>\n",
       "      <th>Country</th>\n",
       "      <th>Total</th>\n",
       "    </tr>\n",
       "  </thead>\n",
       "  <tbody>\n",
       "    <tr>\n",
       "      <th>0</th>\n",
       "      <td>536365</td>\n",
       "      <td>85123A</td>\n",
       "      <td>WHITE HANGING HEART T-LIGHT HOLDER</td>\n",
       "      <td>6</td>\n",
       "      <td>2010-12-01 08:26:00</td>\n",
       "      <td>2.55</td>\n",
       "      <td>17850.0</td>\n",
       "      <td>United Kingdom</td>\n",
       "      <td>15.3</td>\n",
       "    </tr>\n",
       "    <tr>\n",
       "      <th>7</th>\n",
       "      <td>536366</td>\n",
       "      <td>22633</td>\n",
       "      <td>HAND WARMER UNION JACK</td>\n",
       "      <td>6</td>\n",
       "      <td>2010-12-01 08:28:00</td>\n",
       "      <td>1.85</td>\n",
       "      <td>17850.0</td>\n",
       "      <td>United Kingdom</td>\n",
       "      <td>11.1</td>\n",
       "    </tr>\n",
       "  </tbody>\n",
       "</table>\n",
       "</div>"
      ],
      "text/plain": [
       "  InvoiceNo StockCode                         Description  Quantity  \\\n",
       "0    536365    85123A  WHITE HANGING HEART T-LIGHT HOLDER         6   \n",
       "7    536366     22633              HAND WARMER UNION JACK         6   \n",
       "\n",
       "          InvoiceDate  UnitPrice  CustomerID         Country  Total  \n",
       "0 2010-12-01 08:26:00       2.55     17850.0  United Kingdom   15.3  \n",
       "7 2010-12-01 08:28:00       1.85     17850.0  United Kingdom   11.1  "
      ]
     },
     "execution_count": 22,
     "metadata": {},
     "output_type": "execute_result"
    }
   ],
   "source": [
    "df.loc[:, 'Total'] = df['Quantity'] * df['UnitPrice']\n",
    "df.head(2)"
   ]
  },
  {
   "cell_type": "code",
   "execution_count": 27,
   "metadata": {},
   "outputs": [
    {
     "data": {
      "text/plain": [
       "InvoiceYear\n",
       "2010     25719.91\n",
       "2011    561574.75\n",
       "Name: Total, dtype: float64"
      ]
     },
     "execution_count": 27,
     "metadata": {},
     "output_type": "execute_result"
    }
   ],
   "source": [
    "#Analysis, counting, aggregate & filtering\n",
    "\n",
    "df.loc[:, 'InvoiceYear'] = df['InvoiceDate'].dt.year\n",
    "annual_sales = df.groupby('InvoiceYear')['Total'].sum()\n",
    "annual_sales"
   ]
  },
  {
   "cell_type": "code",
   "execution_count": 33,
   "metadata": {},
   "outputs": [
    {
     "data": {
      "image/png": "[encoded data removed]",
      "text/plain": [
       "<Figure size 640x480 with 1 Axes>"
      ]
     },
     "metadata": {},
     "output_type": "display_data"
    }
   ],
   "source": [
    "total_sales = annual_sales.sum()\n",
    "plt.pie(annual_sales.values, labels=annual_sales.index, autopct=lambda x: '{:.1f}%'.format(x/total_sales*100))\n",
    "plt.show()"
   ]
  },
  {
   "cell_type": "code",
   "execution_count": 29,
   "metadata": {},
   "outputs": [
    {
     "data": {
      "text/html": [
       "<div>\n",
       "<style scoped>\n",
       "    .dataframe tbody tr th:only-of-type {\n",
       "        vertical-align: middle;\n",
       "    }\n",
       "\n",
       "    .dataframe tbody tr th {\n",
       "        vertical-align: top;\n",
       "    }\n",
       "\n",
       "    .dataframe thead th {\n",
       "        text-align: right;\n",
       "    }\n",
       "</style>\n",
       "<table border=\"1\" class=\"dataframe\">\n",
       "  <thead>\n",
       "    <tr style=\"text-align: right;\">\n",
       "      <th></th>\n",
       "      <th>InvoiceNo</th>\n",
       "      <th>StockCode</th>\n",
       "      <th>Description</th>\n",
       "      <th>Quantity</th>\n",
       "      <th>InvoiceDate</th>\n",
       "      <th>UnitPrice</th>\n",
       "      <th>CustomerID</th>\n",
       "      <th>Country</th>\n",
       "      <th>Total</th>\n",
       "      <th>InvoiceYear</th>\n",
       "      <th>Profit</th>\n",
       "    </tr>\n",
       "  </thead>\n",
       "  <tbody>\n",
       "    <tr>\n",
       "      <th>0</th>\n",
       "      <td>536365</td>\n",
       "      <td>85123A</td>\n",
       "      <td>WHITE HANGING HEART T-LIGHT HOLDER</td>\n",
       "      <td>6</td>\n",
       "      <td>2010-12-01 08:26:00</td>\n",
       "      <td>2.55</td>\n",
       "      <td>17850.0</td>\n",
       "      <td>United Kingdom</td>\n",
       "      <td>15.30</td>\n",
       "      <td>2010</td>\n",
       "      <td>3.825</td>\n",
       "    </tr>\n",
       "    <tr>\n",
       "      <th>7</th>\n",
       "      <td>536366</td>\n",
       "      <td>22633</td>\n",
       "      <td>HAND WARMER UNION JACK</td>\n",
       "      <td>6</td>\n",
       "      <td>2010-12-01 08:28:00</td>\n",
       "      <td>1.85</td>\n",
       "      <td>17850.0</td>\n",
       "      <td>United Kingdom</td>\n",
       "      <td>11.10</td>\n",
       "      <td>2010</td>\n",
       "      <td>2.775</td>\n",
       "    </tr>\n",
       "    <tr>\n",
       "      <th>9</th>\n",
       "      <td>536367</td>\n",
       "      <td>84879</td>\n",
       "      <td>ASSORTED COLOUR BIRD ORNAMENT</td>\n",
       "      <td>32</td>\n",
       "      <td>2010-12-01 08:34:00</td>\n",
       "      <td>1.69</td>\n",
       "      <td>13047.0</td>\n",
       "      <td>United Kingdom</td>\n",
       "      <td>54.08</td>\n",
       "      <td>2010</td>\n",
       "      <td>13.520</td>\n",
       "    </tr>\n",
       "  </tbody>\n",
       "</table>\n",
       "</div>"
      ],
      "text/plain": [
       "  InvoiceNo StockCode                         Description  Quantity  \\\n",
       "0    536365    85123A  WHITE HANGING HEART T-LIGHT HOLDER         6   \n",
       "7    536366     22633              HAND WARMER UNION JACK         6   \n",
       "9    536367     84879       ASSORTED COLOUR BIRD ORNAMENT        32   \n",
       "\n",
       "          InvoiceDate  UnitPrice  CustomerID         Country  Total  \\\n",
       "0 2010-12-01 08:26:00       2.55     17850.0  United Kingdom  15.30   \n",
       "7 2010-12-01 08:28:00       1.85     17850.0  United Kingdom  11.10   \n",
       "9 2010-12-01 08:34:00       1.69     13047.0  United Kingdom  54.08   \n",
       "\n",
       "   InvoiceYear  Profit  \n",
       "0         2010   3.825  \n",
       "7         2010   2.775  \n",
       "9         2010  13.520  "
      ]
     },
     "execution_count": 29,
     "metadata": {},
     "output_type": "execute_result"
    }
   ],
   "source": [
    "df = df.assign(Profit=(df['UnitPrice'] * 0.25) * df['Quantity'])\n",
    "df.head(3)"
   ]
  },
  {
   "cell_type": "code",
   "execution_count": 30,
   "metadata": {},
   "outputs": [
    {
     "data": {
      "text/plain": [
       "InvoiceYear\n",
       "2010      6429.9775\n",
       "2011    140393.6875\n",
       "Name: Profit, dtype: float64"
      ]
     },
     "execution_count": 30,
     "metadata": {},
     "output_type": "execute_result"
    }
   ],
   "source": [
    "df.loc[:, 'InvoiceYear'] = df['InvoiceDate'].dt.year\n",
    "annual_profit = df.groupby('InvoiceYear')['Profit'].sum()\n",
    "annual_profit"
   ]
  },
  {
   "cell_type": "code",
   "execution_count": 31,
   "metadata": {},
   "outputs": [
    {
     "data": {
      "text/plain": [
       "<Axes: title={'center': 'Average Profit per Year'}, xlabel='Year', ylabel='Annual Profit'>"
      ]
     },
     "execution_count": 31,
     "metadata": {},
     "output_type": "execute_result"
    },
    {
     "data": {
      "image/png": "[encoded data removed]",
      "text/plain": [
       "<Figure size 640x480 with 1 Axes>"
      ]
     },
     "metadata": {},
     "output_type": "display_data"
    }
   ],
   "source": [
    "annual_profit.plot(xlabel = 'Year', ylabel = 'Annual Profit', title = 'Average Profit per Year')"
   ]
  },
  {
   "cell_type": "code",
   "execution_count": 37,
   "metadata": {},
   "outputs": [
    {
     "data": {
      "text/plain": [
       "InvoiceYear\n",
       "2010     27534\n",
       "2011    334318\n",
       "Name: Quantity, dtype: int64"
      ]
     },
     "execution_count": 37,
     "metadata": {},
     "output_type": "execute_result"
    }
   ],
   "source": [
    "df.loc[:, 'InvoiceYear'] = df['InvoiceDate'].dt.year\n",
    "quantity_sold = df.groupby('InvoiceYear')['Quantity'].sum()\n",
    "quantity_sold"
   ]
  },
  {
   "cell_type": "code",
   "execution_count": 38,
   "metadata": {},
   "outputs": [
    {
     "data": {
      "text/plain": [
       "<Axes: title={'center': 'Average Quantity Sold per Year'}, xlabel='Year', ylabel='Quantity Sold'>"
      ]
     },
     "execution_count": 38,
     "metadata": {},
     "output_type": "execute_result"
    },
    {
     "data": {
      "image/png": "[encoded data removed]",
      "text/plain": [
       "<Figure size 640x480 with 1 Axes>"
      ]
     },
     "metadata": {},
     "output_type": "display_data"
    }
   ],
   "source": [
    "quantity_sold = df.groupby('InvoiceYear')['Quantity'].mean()\n",
    "quantity_sold.plot(xlabel='Year',ylabel='Quantity Sold',title='Average Quantity Sold per Year')"
   ]
  },
  {
   "cell_type": "code",
   "execution_count": 44,
   "metadata": {},
   "outputs": [
    {
     "name": "stdout",
     "output_type": "stream",
     "text": [
      "Average Order Value: 1.6230244962028673\n"
     ]
    }
   ],
   "source": [
    "#Calculate Average Order Value (AOV): the total revenue by the number of orders.add()\n",
    "\n",
    "aov = df['Total'].sum() / df['Quantity'].sum()\n",
    "print('Average Order Value:', aov)"
   ]
  },
  {
   "cell_type": "code",
   "execution_count": 45,
   "metadata": {},
   "outputs": [
    {
     "name": "stdout",
     "output_type": "stream",
     "text": [
      "Customer Lifespan Value: 0.0051093892514802825\n"
     ]
    }
   ],
   "source": [
    "#CLV = (Customer Value * Average Customer Lifespan)\n",
    "\n",
    "Avg_Customer_Lifespan = 5\n",
    "df['no_customer'] = df['CustomerID'].count()\n",
    "customer_value = df['Total'].sum() / df['no_customer'].sum()\n",
    "clv = customer_value * Avg_Customer_Lifespan\n",
    "print('Customer Lifespan Value:', clv)"
   ]
  },
  {
   "cell_type": "code",
   "execution_count": 46,
   "metadata": {},
   "outputs": [
    {
     "data": {
      "text/plain": [
       "<Axes: xlabel='Year'>"
      ]
     },
     "execution_count": 46,
     "metadata": {},
     "output_type": "execute_result"
    },
    {
     "data": {
      "image/png": "[encoded data removed]",
      "text/plain": [
       "<Figure size 640x480 with 1 Axes>"
      ]
     },
     "metadata": {},
     "output_type": "display_data"
    }
   ],
   "source": [
    "df['Year'] = df['InvoiceDate'].dt.year\n",
    "df['Year'].value_counts().plot(kind = 'bar')"
   ]
  },
  {
   "cell_type": "code",
   "execution_count": 6,
   "metadata": {},
   "outputs": [],
   "source": [
    "import pandas as pd\n",
    "import plotly.express as px\n",
    "\n",
    "df2 = pd.read_excel('Online Retail.xlsx')"
   ]
  },
  {
   "cell_type": "code",
   "execution_count": 7,
   "metadata": {},
   "outputs": [
    {
     "data": {
      "text/plain": [
       "InvoiceYear\n",
       "2010    4.166977e+08\n",
       "2011    5.802778e+09\n",
       "Name: CustomerID, dtype: float64"
      ]
     },
     "execution_count": 7,
     "metadata": {},
     "output_type": "execute_result"
    }
   ],
   "source": [
    "df2.drop_duplicates(subset = ['CustomerID', 'InvoiceNo'], keep = 'first')\n",
    "df2['InvoiceYear'] = df2['InvoiceDate'].dt.year\n",
    "no_customer = df2.groupby('InvoiceYear')['CustomerID'].sum()\n",
    "no_customer"
   ]
  },
  {
   "cell_type": "code",
   "execution_count": 8,
   "metadata": {},
   "outputs": [
    {
     "data": {
      "application/vnd.plotly.v1+json": {
       "config": {
        "plotlyServerURL": "https://plot.ly"
       },
       "data": [
        {
         "domain": {
          "x": [
           0,
           1
          ],
          "y": [
           0,
           1
          ]
         },
         "hole": 0.4,
         "hovertemplate": "InvoiceYear=%{label}<br>value=%{value}<extra></extra>",
         "labels": [
          2010,
          2011
         ],
         "legendgroup": "",
         "name": "",
         "showlegend": true,
         "type": "pie",
         "values": [
          416697748,
          5802778119
         ]
        }
       ],
       "layout": {
        "legend": {
         "tracegroupgap": 0
        },
        "margin": {
         "t": 60
        },
        "template": {
         "data": {
          "bar": [
           {
            "error_x": {
             "color": "#2a3f5f"
            },
            "error_y": {
             "color": "#2a3f5f"
            },
            "marker": {
             "line": {
              "color": "#E5ECF6",
              "width": 0.5
             },
             "pattern": {
              "fillmode": "overlay",
              "size": 10,
              "solidity": 0.2
             }
            },
            "type": "bar"
           }
          ],
          "barpolar": [
           {
            "marker": {
             "line": {
              "color": "#E5ECF6",
              "width": 0.5
             },
             "pattern": {
              "fillmode": "overlay",
              "size": 10,
              "solidity": 0.2
             }
            },
            "type": "barpolar"
           }
          ],
          "carpet": [
           {
            "aaxis": {
             "endlinecolor": "#2a3f5f",
             "gridcolor": "white",
             "linecolor": "white",
             "minorgridcolor": "white",
             "startlinecolor": "#2a3f5f"
            },
            "baxis": {
             "endlinecolor": "#2a3f5f",
             "gridcolor": "white",
             "linecolor": "white",
             "minorgridcolor": "white",
             "startlinecolor": "#2a3f5f"
            },
            "type": "carpet"
           }
          ],
          "choropleth": [
           {
            "colorbar": {
             "outlinewidth": 0,
             "ticks": ""
            },
            "type": "choropleth"
           }
          ],
          "contour": [
           {
            "colorbar": {
             "outlinewidth": 0,
             "ticks": ""
            },
            "colorscale": [
             [
              0,
              "#0d0887"
             ],
             [
              0.1111111111111111,
              "#46039f"
             ],
             [
              0.2222222222222222,
              "#7201a8"
             ],
             [
              0.3333333333333333,
              "#9c179e"
             ],
             [
              0.4444444444444444,
              "#bd3786"
             ],
             [
              0.5555555555555556,
              "#d8576b"
             ],
             [
              0.6666666666666666,
              "#ed7953"
             ],
             [
              0.7777777777777778,
              "#fb9f3a"
             ],
             [
              0.8888888888888888,
              "#fdca26"
             ],
             [
              1,
              "#f0f921"
             ]
            ],
            "type": "contour"
           }
          ],
          "contourcarpet": [
           {
            "colorbar": {
             "outlinewidth": 0,
             "ticks": ""
            },
            "type": "contourcarpet"
           }
          ],
          "heatmap": [
           {
            "colorbar": {
             "outlinewidth": 0,
             "ticks": ""
            },
            "colorscale": [
             [
              0,
              "#0d0887"
             ],
             [
              0.1111111111111111,
              "#46039f"
             ],
             [
              0.2222222222222222,
              "#7201a8"
             ],
             [
              0.3333333333333333,
              "#9c179e"
             ],
             [
              0.4444444444444444,
              "#bd3786"
             ],
             [
              0.5555555555555556,
              "#d8576b"
             ],
             [
              0.6666666666666666,
              "#ed7953"
             ],
             [
              0.7777777777777778,
              "#fb9f3a"
             ],
             [
              0.8888888888888888,
              "#fdca26"
             ],
             [
              1,
              "#f0f921"
             ]
            ],
            "type": "heatmap"
           }
          ],
          "heatmapgl": [
           {
            "colorbar": {
             "outlinewidth": 0,
             "ticks": ""
            },
            "colorscale": [
             [
              0,
              "#0d0887"
             ],
             [
              0.1111111111111111,
              "#46039f"
             ],
             [
              0.2222222222222222,
              "#7201a8"
             ],
             [
              0.3333333333333333,
              "#9c179e"
             ],
             [
              0.4444444444444444,
              "#bd3786"
             ],
             [
              0.5555555555555556,
              "#d8576b"
             ],
             [
              0.6666666666666666,
              "#ed7953"
             ],
             [
              0.7777777777777778,
              "#fb9f3a"
             ],
             [
              0.8888888888888888,
              "#fdca26"
             ],
             [
              1,
              "#f0f921"
             ]
            ],
            "type": "heatmapgl"
           }
          ],
          "histogram": [
           {
            "marker": {
             "pattern": {
              "fillmode": "overlay",
              "size": 10,
              "solidity": 0.2
             }
            },
            "type": "histogram"
           }
          ],
          "histogram2d": [
           {
            "colorbar": {
             "outlinewidth": 0,
             "ticks": ""
            },
            "colorscale": [
             [
              0,
              "#0d0887"
             ],
             [
              0.1111111111111111,
              "#46039f"
             ],
             [
              0.2222222222222222,
              "#7201a8"
             ],
             [
              0.3333333333333333,
              "#9c179e"
             ],
             [
              0.4444444444444444,
              "#bd3786"
             ],
             [
              0.5555555555555556,
              "#d8576b"
             ],
             [
              0.6666666666666666,
              "#ed7953"
             ],
             [
              0.7777777777777778,
              "#fb9f3a"
             ],
             [
              0.8888888888888888,
              "#fdca26"
             ],
             [
              1,
              "#f0f921"
             ]
            ],
            "type": "histogram2d"
           }
          ],
          "histogram2dcontour": [
           {
            "colorbar": {
             "outlinewidth": 0,
             "ticks": ""
            },
            "colorscale": [
             [
              0,
              "#0d0887"
             ],
             [
              0.1111111111111111,
              "#46039f"
             ],
             [
              0.2222222222222222,
              "#7201a8"
             ],
             [
              0.3333333333333333,
              "#9c179e"
             ],
             [
              0.4444444444444444,
              "#bd3786"
             ],
             [
              0.5555555555555556,
              "#d8576b"
             ],
             [
              0.6666666666666666,
              "#ed7953"
             ],
             [
              0.7777777777777778,
              "#fb9f3a"
             ],
             [
              0.8888888888888888,
              "#fdca26"
             ],
             [
              1,
              "#f0f921"
             ]
            ],
            "type": "histogram2dcontour"
           }
          ],
          "mesh3d": [
           {
            "colorbar": {
             "outlinewidth": 0,
             "ticks": ""
            },
            "type": "mesh3d"
           }
          ],
          "parcoords": [
           {
            "line": {
             "colorbar": {
              "outlinewidth": 0,
              "ticks": ""
             }
            },
            "type": "parcoords"
           }
          ],
          "pie": [
           {
            "automargin": true,
            "type": "pie"
           }
          ],
          "scatter": [
           {
            "fillpattern": {
             "fillmode": "overlay",
             "size": 10,
             "solidity": 0.2
            },
            "type": "scatter"
           }
          ],
          "scatter3d": [
           {
            "line": {
             "colorbar": {
              "outlinewidth": 0,
              "ticks": ""
             }
            },
            "marker": {
             "colorbar": {
              "outlinewidth": 0,
              "ticks": ""
             }
            },
            "type": "scatter3d"
           }
          ],
          "scattercarpet": [
           {
            "marker": {
             "colorbar": {
              "outlinewidth": 0,
              "ticks": ""
             }
            },
            "type": "scattercarpet"
           }
          ],
          "scattergeo": [
           {
            "marker": {
             "colorbar": {
              "outlinewidth": 0,
              "ticks": ""
             }
            },
            "type": "scattergeo"
           }
          ],
          "scattergl": [
           {
            "marker": {
             "colorbar": {
              "outlinewidth": 0,
              "ticks": ""
             }
            },
            "type": "scattergl"
           }
          ],
          "scattermapbox": [
           {
            "marker": {
             "colorbar": {
              "outlinewidth": 0,
              "ticks": ""
             }
            },
            "type": "scattermapbox"
           }
          ],
          "scatterpolar": [
           {
            "marker": {
             "colorbar": {
              "outlinewidth": 0,
              "ticks": ""
             }
            },
            "type": "scatterpolar"
           }
          ],
          "scatterpolargl": [
           {
            "marker": {
             "colorbar": {
              "outlinewidth": 0,
              "ticks": ""
             }
            },
            "type": "scatterpolargl"
           }
          ],
          "scatterternary": [
           {
            "marker": {
             "colorbar": {
              "outlinewidth": 0,
              "ticks": ""
             }
            },
            "type": "scatterternary"
           }
          ],
          "surface": [
           {
            "colorbar": {
             "outlinewidth": 0,
             "ticks": ""
            },
            "colorscale": [
             [
              0,
              "#0d0887"
             ],
             [
              0.1111111111111111,
              "#46039f"
             ],
             [
              0.2222222222222222,
              "#7201a8"
             ],
             [
              0.3333333333333333,
              "#9c179e"
             ],
             [
              0.4444444444444444,
              "#bd3786"
             ],
             [
              0.5555555555555556,
              "#d8576b"
             ],
             [
              0.6666666666666666,
              "#ed7953"
             ],
             [
              0.7777777777777778,
              "#fb9f3a"
             ],
             [
              0.8888888888888888,
              "#fdca26"
             ],
             [
              1,
              "#f0f921"
             ]
            ],
            "type": "surface"
           }
          ],
          "table": [
           {
            "cells": {
             "fill": {
              "color": "#EBF0F8"
             },
             "line": {
              "color": "white"
             }
            },
            "header": {
             "fill": {
              "color": "#C8D4E3"
             },
             "line": {
              "color": "white"
             }
            },
            "type": "table"
           }
          ]
         },
         "layout": {
          "annotationdefaults": {
           "arrowcolor": "#2a3f5f",
           "arrowhead": 0,
           "arrowwidth": 1
          },
          "autotypenumbers": "strict",
          "coloraxis": {
           "colorbar": {
            "outlinewidth": 0,
            "ticks": ""
           }
          },
          "colorscale": {
           "diverging": [
            [
             0,
             "#8e0152"
            ],
            [
             0.1,
             "#c51b7d"
            ],
            [
             0.2,
             "#de77ae"
            ],
            [
             0.3,
             "#f1b6da"
            ],
            [
             0.4,
             "#fde0ef"
            ],
            [
             0.5,
             "#f7f7f7"
            ],
            [
             0.6,
             "#e6f5d0"
            ],
            [
             0.7,
             "#b8e186"
            ],
            [
             0.8,
             "#7fbc41"
            ],
            [
             0.9,
             "#4d9221"
            ],
            [
             1,
             "#276419"
            ]
           ],
           "sequential": [
            [
             0,
             "#0d0887"
            ],
            [
             0.1111111111111111,
             "#46039f"
            ],
            [
             0.2222222222222222,
             "#7201a8"
            ],
            [
             0.3333333333333333,
             "#9c179e"
            ],
            [
             0.4444444444444444,
             "#bd3786"
            ],
            [
             0.5555555555555556,
             "#d8576b"
            ],
            [
             0.6666666666666666,
             "#ed7953"
            ],
            [
             0.7777777777777778,
             "#fb9f3a"
            ],
            [
             0.8888888888888888,
             "#fdca26"
            ],
            [
             1,
             "#f0f921"
            ]
           ],
           "sequentialminus": [
            [
             0,
             "#0d0887"
            ],
            [
             0.1111111111111111,
             "#46039f"
            ],
            [
             0.2222222222222222,
             "#7201a8"
            ],
            [
             0.3333333333333333,
             "#9c179e"
            ],
            [
             0.4444444444444444,
             "#bd3786"
            ],
            [
             0.5555555555555556,
             "#d8576b"
            ],
            [
             0.6666666666666666,
             "#ed7953"
            ],
            [
             0.7777777777777778,
             "#fb9f3a"
            ],
            [
             0.8888888888888888,
             "#fdca26"
            ],
            [
             1,
             "#f0f921"
            ]
           ]
          },
          "colorway": [
           "#636efa",
           "#EF553B",
           "#00cc96",
           "#ab63fa",
           "#FFA15A",
           "#19d3f3",
           "#FF6692",
           "#B6E880",
           "#FF97FF",
           "#FECB52"
          ],
          "font": {
           "color": "#2a3f5f"
          },
          "geo": {
           "bgcolor": "white",
           "lakecolor": "white",
           "landcolor": "#E5ECF6",
           "showlakes": true,
           "showland": true,
           "subunitcolor": "white"
          },
          "hoverlabel": {
           "align": "left"
          },
          "hovermode": "closest",
          "mapbox": {
           "style": "light"
          },
          "paper_bgcolor": "white",
          "plot_bgcolor": "#E5ECF6",
          "polar": {
           "angularaxis": {
            "gridcolor": "white",
            "linecolor": "white",
            "ticks": ""
           },
           "bgcolor": "#E5ECF6",
           "radialaxis": {
            "gridcolor": "white",
            "linecolor": "white",
            "ticks": ""
           }
          },
          "scene": {
           "xaxis": {
            "backgroundcolor": "#E5ECF6",
            "gridcolor": "white",
            "gridwidth": 2,
            "linecolor": "white",
            "showbackground": true,
            "ticks": "",
            "zerolinecolor": "white"
           },
           "yaxis": {
            "backgroundcolor": "#E5ECF6",
            "gridcolor": "white",
            "gridwidth": 2,
            "linecolor": "white",
            "showbackground": true,
            "ticks": "",
            "zerolinecolor": "white"
           },
           "zaxis": {
            "backgroundcolor": "#E5ECF6",
            "gridcolor": "white",
            "gridwidth": 2,
            "linecolor": "white",
            "showbackground": true,
            "ticks": "",
            "zerolinecolor": "white"
           }
          },
          "shapedefaults": {
           "line": {
            "color": "#2a3f5f"
           }
          },
          "ternary": {
           "aaxis": {
            "gridcolor": "white",
            "linecolor": "white",
            "ticks": ""
           },
           "baxis": {
            "gridcolor": "white",
            "linecolor": "white",
            "ticks": ""
           },
           "bgcolor": "#E5ECF6",
           "caxis": {
            "gridcolor": "white",
            "linecolor": "white",
            "ticks": ""
           }
          },
          "title": {
           "x": 0.05
          },
          "xaxis": {
           "automargin": true,
           "gridcolor": "white",
           "linecolor": "white",
           "ticks": "",
           "title": {
            "standoff": 15
           },
           "zerolinecolor": "white",
           "zerolinewidth": 2
          },
          "yaxis": {
           "automargin": true,
           "gridcolor": "white",
           "linecolor": "white",
           "ticks": "",
           "title": {
            "standoff": 15
           },
           "zerolinecolor": "white",
           "zerolinewidth": 2
          }
         }
        }
       }
      }
     },
     "metadata": {},
     "output_type": "display_data"
    }
   ],
   "source": [
    "no_customer = df2.groupby('InvoiceYear')['CustomerID'].sum()\n",
    "nfig = px.pie(\n",
    "    no_customer,\n",
    "    values=no_customer.values,\n",
    "    names=no_customer.index,\n",
    "    labels={year: f\"Year {year}\" for year in no_customer.index},\n",
    "    hole=0.4\n",
    "    \n",
    ")\n",
    "nfig"
   ]
  },
  {
   "cell_type": "code",
   "execution_count": 10,
   "metadata": {},
   "outputs": [
    {
     "data": {
      "text/html": [
       "<div>\n",
       "<style scoped>\n",
       "    .dataframe tbody tr th:only-of-type {\n",
       "        vertical-align: middle;\n",
       "    }\n",
       "\n",
       "    .dataframe tbody tr th {\n",
       "        vertical-align: top;\n",
       "    }\n",
       "\n",
       "    .dataframe thead th {\n",
       "        text-align: right;\n",
       "    }\n",
       "</style>\n",
       "<table border=\"1\" class=\"dataframe\">\n",
       "  <thead>\n",
       "    <tr style=\"text-align: right;\">\n",
       "      <th></th>\n",
       "      <th>InvoiceNo</th>\n",
       "      <th>StockCode</th>\n",
       "      <th>Description</th>\n",
       "      <th>Quantity</th>\n",
       "      <th>InvoiceDate</th>\n",
       "      <th>UnitPrice</th>\n",
       "      <th>CustomerID</th>\n",
       "      <th>Country</th>\n",
       "      <th>InvoiceYear</th>\n",
       "      <th>Total</th>\n",
       "    </tr>\n",
       "  </thead>\n",
       "  <tbody>\n",
       "    <tr>\n",
       "      <th>0</th>\n",
       "      <td>536365</td>\n",
       "      <td>85123A</td>\n",
       "      <td>WHITE HANGING HEART T-LIGHT HOLDER</td>\n",
       "      <td>6</td>\n",
       "      <td>2010-12-01 08:26:00</td>\n",
       "      <td>2.55</td>\n",
       "      <td>17850.0</td>\n",
       "      <td>United Kingdom</td>\n",
       "      <td>2010</td>\n",
       "      <td>15.30</td>\n",
       "    </tr>\n",
       "    <tr>\n",
       "      <th>1</th>\n",
       "      <td>536365</td>\n",
       "      <td>71053</td>\n",
       "      <td>WHITE METAL LANTERN</td>\n",
       "      <td>6</td>\n",
       "      <td>2010-12-01 08:26:00</td>\n",
       "      <td>3.39</td>\n",
       "      <td>17850.0</td>\n",
       "      <td>United Kingdom</td>\n",
       "      <td>2010</td>\n",
       "      <td>20.34</td>\n",
       "    </tr>\n",
       "  </tbody>\n",
       "</table>\n",
       "</div>"
      ],
      "text/plain": [
       "  InvoiceNo StockCode                         Description  Quantity  \\\n",
       "0    536365    85123A  WHITE HANGING HEART T-LIGHT HOLDER         6   \n",
       "1    536365     71053                 WHITE METAL LANTERN         6   \n",
       "\n",
       "          InvoiceDate  UnitPrice  CustomerID         Country  InvoiceYear  \\\n",
       "0 2010-12-01 08:26:00       2.55     17850.0  United Kingdom         2010   \n",
       "1 2010-12-01 08:26:00       3.39     17850.0  United Kingdom         2010   \n",
       "\n",
       "   Total  \n",
       "0  15.30  \n",
       "1  20.34  "
      ]
     },
     "execution_count": 10,
     "metadata": {},
     "output_type": "execute_result"
    }
   ],
   "source": [
    "df2.loc[:, 'Total'] = df2['Quantity'] * df2['UnitPrice']\n",
    "df2.head(2)"
   ]
  },
  {
   "cell_type": "code",
   "execution_count": 13,
   "metadata": {},
   "outputs": [
    {
     "data": {
      "text/html": [
       "<div>\n",
       "<style scoped>\n",
       "    .dataframe tbody tr th:only-of-type {\n",
       "        vertical-align: middle;\n",
       "    }\n",
       "\n",
       "    .dataframe tbody tr th {\n",
       "        vertical-align: top;\n",
       "    }\n",
       "\n",
       "    .dataframe thead th {\n",
       "        text-align: right;\n",
       "    }\n",
       "</style>\n",
       "<table border=\"1\" class=\"dataframe\">\n",
       "  <thead>\n",
       "    <tr style=\"text-align: right;\">\n",
       "      <th></th>\n",
       "      <th>InvoiceNo</th>\n",
       "      <th>StockCode</th>\n",
       "      <th>Description</th>\n",
       "      <th>Quantity</th>\n",
       "      <th>InvoiceDate</th>\n",
       "      <th>UnitPrice</th>\n",
       "      <th>CustomerID</th>\n",
       "      <th>Country</th>\n",
       "      <th>InvoiceYear</th>\n",
       "      <th>Total</th>\n",
       "    </tr>\n",
       "  </thead>\n",
       "  <tbody>\n",
       "    <tr>\n",
       "      <th>13</th>\n",
       "      <td>536367</td>\n",
       "      <td>22310</td>\n",
       "      <td>IVORY KNITTED MUG COSY</td>\n",
       "      <td>6</td>\n",
       "      <td>2010-12-01 08:34:00</td>\n",
       "      <td>1.65</td>\n",
       "      <td>13047.0</td>\n",
       "      <td>United Kingdom</td>\n",
       "      <td>2010</td>\n",
       "      <td>9.90</td>\n",
       "    </tr>\n",
       "    <tr>\n",
       "      <th>53</th>\n",
       "      <td>536373</td>\n",
       "      <td>37370</td>\n",
       "      <td>RETRO COFFEE MUGS ASSORTED</td>\n",
       "      <td>6</td>\n",
       "      <td>2010-12-01 09:02:00</td>\n",
       "      <td>1.06</td>\n",
       "      <td>17850.0</td>\n",
       "      <td>United Kingdom</td>\n",
       "      <td>2010</td>\n",
       "      <td>6.36</td>\n",
       "    </tr>\n",
       "    <tr>\n",
       "      <th>54</th>\n",
       "      <td>536373</td>\n",
       "      <td>21871</td>\n",
       "      <td>SAVE THE PLANET MUG</td>\n",
       "      <td>6</td>\n",
       "      <td>2010-12-01 09:02:00</td>\n",
       "      <td>1.06</td>\n",
       "      <td>17850.0</td>\n",
       "      <td>United Kingdom</td>\n",
       "      <td>2010</td>\n",
       "      <td>6.36</td>\n",
       "    </tr>\n",
       "    <tr>\n",
       "      <th>55</th>\n",
       "      <td>536373</td>\n",
       "      <td>21071</td>\n",
       "      <td>VINTAGE BILLBOARD DRINK ME MUG</td>\n",
       "      <td>6</td>\n",
       "      <td>2010-12-01 09:02:00</td>\n",
       "      <td>1.06</td>\n",
       "      <td>17850.0</td>\n",
       "      <td>United Kingdom</td>\n",
       "      <td>2010</td>\n",
       "      <td>6.36</td>\n",
       "    </tr>\n",
       "    <tr>\n",
       "      <th>56</th>\n",
       "      <td>536373</td>\n",
       "      <td>21068</td>\n",
       "      <td>VINTAGE BILLBOARD LOVE/HATE MUG</td>\n",
       "      <td>6</td>\n",
       "      <td>2010-12-01 09:02:00</td>\n",
       "      <td>1.06</td>\n",
       "      <td>17850.0</td>\n",
       "      <td>United Kingdom</td>\n",
       "      <td>2010</td>\n",
       "      <td>6.36</td>\n",
       "    </tr>\n",
       "    <tr>\n",
       "      <th>...</th>\n",
       "      <td>...</td>\n",
       "      <td>...</td>\n",
       "      <td>...</td>\n",
       "      <td>...</td>\n",
       "      <td>...</td>\n",
       "      <td>...</td>\n",
       "      <td>...</td>\n",
       "      <td>...</td>\n",
       "      <td>...</td>\n",
       "      <td>...</td>\n",
       "    </tr>\n",
       "    <tr>\n",
       "      <th>541859</th>\n",
       "      <td>581580</td>\n",
       "      <td>37500</td>\n",
       "      <td>TEA TIME TEAPOT IN GIFT BOX</td>\n",
       "      <td>1</td>\n",
       "      <td>2011-12-09 12:20:00</td>\n",
       "      <td>4.95</td>\n",
       "      <td>12748.0</td>\n",
       "      <td>United Kingdom</td>\n",
       "      <td>2011</td>\n",
       "      <td>4.95</td>\n",
       "    </tr>\n",
       "    <tr>\n",
       "      <th>541869</th>\n",
       "      <td>581585</td>\n",
       "      <td>22481</td>\n",
       "      <td>BLACK TEA TOWEL CLASSIC DESIGN</td>\n",
       "      <td>12</td>\n",
       "      <td>2011-12-09 12:31:00</td>\n",
       "      <td>0.39</td>\n",
       "      <td>15804.0</td>\n",
       "      <td>United Kingdom</td>\n",
       "      <td>2011</td>\n",
       "      <td>4.68</td>\n",
       "    </tr>\n",
       "    <tr>\n",
       "      <th>541870</th>\n",
       "      <td>581585</td>\n",
       "      <td>22915</td>\n",
       "      <td>ASSORTED BOTTLE TOP  MAGNETS</td>\n",
       "      <td>24</td>\n",
       "      <td>2011-12-09 12:31:00</td>\n",
       "      <td>0.19</td>\n",
       "      <td>15804.0</td>\n",
       "      <td>United Kingdom</td>\n",
       "      <td>2011</td>\n",
       "      <td>4.56</td>\n",
       "    </tr>\n",
       "    <tr>\n",
       "      <th>541881</th>\n",
       "      <td>581585</td>\n",
       "      <td>16016</td>\n",
       "      <td>LARGE CHINESE STYLE SCISSOR</td>\n",
       "      <td>10</td>\n",
       "      <td>2011-12-09 12:31:00</td>\n",
       "      <td>0.85</td>\n",
       "      <td>15804.0</td>\n",
       "      <td>United Kingdom</td>\n",
       "      <td>2011</td>\n",
       "      <td>8.50</td>\n",
       "    </tr>\n",
       "    <tr>\n",
       "      <th>541886</th>\n",
       "      <td>581585</td>\n",
       "      <td>22398</td>\n",
       "      <td>MAGNETS PACK OF 4 SWALLOWS</td>\n",
       "      <td>12</td>\n",
       "      <td>2011-12-09 12:31:00</td>\n",
       "      <td>0.39</td>\n",
       "      <td>15804.0</td>\n",
       "      <td>United Kingdom</td>\n",
       "      <td>2011</td>\n",
       "      <td>4.68</td>\n",
       "    </tr>\n",
       "  </tbody>\n",
       "</table>\n",
       "<p>283644 rows × 10 columns</p>\n",
       "</div>"
      ],
      "text/plain": [
       "       InvoiceNo StockCode                      Description  Quantity  \\\n",
       "13        536367     22310          IVORY KNITTED MUG COSY          6   \n",
       "53        536373     37370       RETRO COFFEE MUGS ASSORTED         6   \n",
       "54        536373     21871              SAVE THE PLANET MUG         6   \n",
       "55        536373     21071   VINTAGE BILLBOARD DRINK ME MUG         6   \n",
       "56        536373     21068  VINTAGE BILLBOARD LOVE/HATE MUG         6   \n",
       "...          ...       ...                              ...       ...   \n",
       "541859    581580     37500      TEA TIME TEAPOT IN GIFT BOX         1   \n",
       "541869    581585     22481   BLACK TEA TOWEL CLASSIC DESIGN        12   \n",
       "541870    581585     22915    ASSORTED BOTTLE TOP  MAGNETS         24   \n",
       "541881    581585     16016      LARGE CHINESE STYLE SCISSOR        10   \n",
       "541886    581585     22398       MAGNETS PACK OF 4 SWALLOWS        12   \n",
       "\n",
       "               InvoiceDate  UnitPrice  CustomerID         Country  \\\n",
       "13     2010-12-01 08:34:00       1.65     13047.0  United Kingdom   \n",
       "53     2010-12-01 09:02:00       1.06     17850.0  United Kingdom   \n",
       "54     2010-12-01 09:02:00       1.06     17850.0  United Kingdom   \n",
       "55     2010-12-01 09:02:00       1.06     17850.0  United Kingdom   \n",
       "56     2010-12-01 09:02:00       1.06     17850.0  United Kingdom   \n",
       "...                    ...        ...         ...             ...   \n",
       "541859 2011-12-09 12:20:00       4.95     12748.0  United Kingdom   \n",
       "541869 2011-12-09 12:31:00       0.39     15804.0  United Kingdom   \n",
       "541870 2011-12-09 12:31:00       0.19     15804.0  United Kingdom   \n",
       "541881 2011-12-09 12:31:00       0.85     15804.0  United Kingdom   \n",
       "541886 2011-12-09 12:31:00       0.39     15804.0  United Kingdom   \n",
       "\n",
       "        InvoiceYear  Total  \n",
       "13             2010   9.90  \n",
       "53             2010   6.36  \n",
       "54             2010   6.36  \n",
       "55             2010   6.36  \n",
       "56             2010   6.36  \n",
       "...             ...    ...  \n",
       "541859         2011   4.95  \n",
       "541869         2011   4.68  \n",
       "541870         2011   4.56  \n",
       "541881         2011   8.50  \n",
       "541886         2011   4.68  \n",
       "\n",
       "[283644 rows x 10 columns]"
      ]
     },
     "execution_count": 13,
     "metadata": {},
     "output_type": "execute_result"
    }
   ],
   "source": [
    "customers_expense = df2[df2['Total']<10]\n",
    "customers_expense"
   ]
  },
  {
   "cell_type": "code",
   "execution_count": 54,
   "metadata": {},
   "outputs": [],
   "source": [
    "from sklearn.tree import DecisionTreeRegressor\n",
    "from skforecast.ForecasterAutoreg import ForecasterAutoreg\n",
    "import pmdarima as pm\n",
    "from sklearn.tree import DecisionTreeRegressor"
   ]
  },
  {
   "cell_type": "code",
   "execution_count": 14,
   "metadata": {},
   "outputs": [],
   "source": [
    "df2['InvoiceDate'] = pd.to_datetime(df2['InvoiceDate'])\n",
    "df2['InvoiceDate'] = df2['InvoiceDate'].dt.date\n",
    "df2.index = pd.to_datetime(df2['InvoiceDate'])"
   ]
  },
  {
   "cell_type": "code",
   "execution_count": 15,
   "metadata": {},
   "outputs": [
    {
     "data": {
      "text/html": [
       "<div>\n",
       "<style scoped>\n",
       "    .dataframe tbody tr th:only-of-type {\n",
       "        vertical-align: middle;\n",
       "    }\n",
       "\n",
       "    .dataframe tbody tr th {\n",
       "        vertical-align: top;\n",
       "    }\n",
       "\n",
       "    .dataframe thead th {\n",
       "        text-align: right;\n",
       "    }\n",
       "</style>\n",
       "<table border=\"1\" class=\"dataframe\">\n",
       "  <thead>\n",
       "    <tr style=\"text-align: right;\">\n",
       "      <th></th>\n",
       "      <th>InvoiceNo</th>\n",
       "      <th>StockCode</th>\n",
       "      <th>Description</th>\n",
       "      <th>Quantity</th>\n",
       "      <th>InvoiceDate</th>\n",
       "      <th>UnitPrice</th>\n",
       "      <th>CustomerID</th>\n",
       "      <th>Country</th>\n",
       "      <th>InvoiceYear</th>\n",
       "      <th>Total</th>\n",
       "    </tr>\n",
       "    <tr>\n",
       "      <th>InvoiceDate</th>\n",
       "      <th></th>\n",
       "      <th></th>\n",
       "      <th></th>\n",
       "      <th></th>\n",
       "      <th></th>\n",
       "      <th></th>\n",
       "      <th></th>\n",
       "      <th></th>\n",
       "      <th></th>\n",
       "      <th></th>\n",
       "    </tr>\n",
       "  </thead>\n",
       "  <tbody>\n",
       "    <tr>\n",
       "      <th>2010-12-01</th>\n",
       "      <td>536365</td>\n",
       "      <td>85123A</td>\n",
       "      <td>WHITE HANGING HEART T-LIGHT HOLDER</td>\n",
       "      <td>6</td>\n",
       "      <td>2010-12-01</td>\n",
       "      <td>2.55</td>\n",
       "      <td>17850.0</td>\n",
       "      <td>United Kingdom</td>\n",
       "      <td>2010</td>\n",
       "      <td>15.30</td>\n",
       "    </tr>\n",
       "    <tr>\n",
       "      <th>2010-12-01</th>\n",
       "      <td>536365</td>\n",
       "      <td>71053</td>\n",
       "      <td>WHITE METAL LANTERN</td>\n",
       "      <td>6</td>\n",
       "      <td>2010-12-01</td>\n",
       "      <td>3.39</td>\n",
       "      <td>17850.0</td>\n",
       "      <td>United Kingdom</td>\n",
       "      <td>2010</td>\n",
       "      <td>20.34</td>\n",
       "    </tr>\n",
       "  </tbody>\n",
       "</table>\n",
       "</div>"
      ],
      "text/plain": [
       "            InvoiceNo StockCode                         Description  Quantity  \\\n",
       "InvoiceDate                                                                     \n",
       "2010-12-01     536365    85123A  WHITE HANGING HEART T-LIGHT HOLDER         6   \n",
       "2010-12-01     536365     71053                 WHITE METAL LANTERN         6   \n",
       "\n",
       "            InvoiceDate  UnitPrice  CustomerID         Country  InvoiceYear  \\\n",
       "InvoiceDate                                                                   \n",
       "2010-12-01   2010-12-01       2.55     17850.0  United Kingdom         2010   \n",
       "2010-12-01   2010-12-01       3.39     17850.0  United Kingdom         2010   \n",
       "\n",
       "             Total  \n",
       "InvoiceDate         \n",
       "2010-12-01   15.30  \n",
       "2010-12-01   20.34  "
      ]
     },
     "execution_count": 15,
     "metadata": {},
     "output_type": "execute_result"
    }
   ],
   "source": [
    "df2.head(2)"
   ]
  },
  {
   "cell_type": "code",
   "execution_count": 46,
   "metadata": {},
   "outputs": [],
   "source": [
    "import pandas as pd\n",
    "import numpy as np\n",
    "from sklearn.linear_model import LinearRegression\n",
    "from sklearn.model_selection import train_test_split\n",
    "from sklearn.metrics import mean_squared_error, r2_score"
   ]
  },
  {
   "cell_type": "code",
   "execution_count": 11,
   "metadata": {},
   "outputs": [
    {
     "data": {
      "text/html": [
       "<div>\n",
       "<style scoped>\n",
       "    .dataframe tbody tr th:only-of-type {\n",
       "        vertical-align: middle;\n",
       "    }\n",
       "\n",
       "    .dataframe tbody tr th {\n",
       "        vertical-align: top;\n",
       "    }\n",
       "\n",
       "    .dataframe thead th {\n",
       "        text-align: right;\n",
       "    }\n",
       "</style>\n",
       "<table border=\"1\" class=\"dataframe\">\n",
       "  <thead>\n",
       "    <tr style=\"text-align: right;\">\n",
       "      <th></th>\n",
       "      <th>InvoiceNo</th>\n",
       "      <th>StockCode</th>\n",
       "      <th>Description</th>\n",
       "      <th>Quantity</th>\n",
       "      <th>InvoiceDate</th>\n",
       "      <th>UnitPrice</th>\n",
       "      <th>CustomerID</th>\n",
       "      <th>Country</th>\n",
       "      <th>Profit</th>\n",
       "    </tr>\n",
       "  </thead>\n",
       "  <tbody>\n",
       "    <tr>\n",
       "      <th>0</th>\n",
       "      <td>536365</td>\n",
       "      <td>85123A</td>\n",
       "      <td>WHITE HANGING HEART T-LIGHT HOLDER</td>\n",
       "      <td>6</td>\n",
       "      <td>2010-12-01 08:26:00</td>\n",
       "      <td>2.55</td>\n",
       "      <td>17850.0</td>\n",
       "      <td>United Kingdom</td>\n",
       "      <td>3.825</td>\n",
       "    </tr>\n",
       "    <tr>\n",
       "      <th>1</th>\n",
       "      <td>536365</td>\n",
       "      <td>71053</td>\n",
       "      <td>WHITE METAL LANTERN</td>\n",
       "      <td>6</td>\n",
       "      <td>2010-12-01 08:26:00</td>\n",
       "      <td>3.39</td>\n",
       "      <td>17850.0</td>\n",
       "      <td>United Kingdom</td>\n",
       "      <td>5.085</td>\n",
       "    </tr>\n",
       "    <tr>\n",
       "      <th>2</th>\n",
       "      <td>536365</td>\n",
       "      <td>84406B</td>\n",
       "      <td>CREAM CUPID HEARTS COAT HANGER</td>\n",
       "      <td>8</td>\n",
       "      <td>2010-12-01 08:26:00</td>\n",
       "      <td>2.75</td>\n",
       "      <td>17850.0</td>\n",
       "      <td>United Kingdom</td>\n",
       "      <td>5.500</td>\n",
       "    </tr>\n",
       "  </tbody>\n",
       "</table>\n",
       "</div>"
      ],
      "text/plain": [
       "  InvoiceNo StockCode                         Description  Quantity  \\\n",
       "0    536365    85123A  WHITE HANGING HEART T-LIGHT HOLDER         6   \n",
       "1    536365     71053                 WHITE METAL LANTERN         6   \n",
       "2    536365    84406B      CREAM CUPID HEARTS COAT HANGER         8   \n",
       "\n",
       "          InvoiceDate  UnitPrice  CustomerID         Country  Profit  \n",
       "0 2010-12-01 08:26:00       2.55     17850.0  United Kingdom   3.825  \n",
       "1 2010-12-01 08:26:00       3.39     17850.0  United Kingdom   5.085  \n",
       "2 2010-12-01 08:26:00       2.75     17850.0  United Kingdom   5.500  "
      ]
     },
     "execution_count": 11,
     "metadata": {},
     "output_type": "execute_result"
    }
   ],
   "source": [
    "df2 = pd.read_excel('Online Retail.xlsx')\n",
    "df2= df2.assign(Profit=(df2['UnitPrice'] * 0.25) * df2['Quantity'])\n",
    "df2.head(3)"
   ]
  },
  {
   "cell_type": "code",
   "execution_count": 12,
   "metadata": {},
   "outputs": [
    {
     "name": "stdout",
     "output_type": "stream",
     "text": [
      "Mean squared error: 3152.88\n",
      "R-squared score: 0.85\n"
     ]
    }
   ],
   "source": [
    "df2['Profit'] = pd.to_numeric(df2['Profit'], errors='coerce').fillna(0)\n",
    "y = df2['Profit']\n",
    "X = df2[['Quantity', 'UnitPrice']]\n",
    "X_train, X_test, y_train, y_test = train_test_split(X, y, test_size=0.2, random_state=42)\n",
    "model = LinearRegression()\n",
    "model.fit(X_train, y_train)\n",
    "y_pred = model.predict(X_test)\n",
    "mse = mean_squared_error(y_test, y_pred)\n",
    "r2 = r2_score(y_test, y_pred)\n",
    "print(f'Mean squared error: {mse:.2f}')\n",
    "print(f'R-squared score: {r2:.2f}')"
   ]
  },
  {
   "cell_type": "code",
   "execution_count": 47,
   "metadata": {},
   "outputs": [
    {
     "name": "stdout",
     "output_type": "stream",
     "text": [
      "Mean squared error: nan\n"
     ]
    }
   ],
   "source": [
    "mse = np.mean((y_test - predicted_test)**2)\n",
    "print(f'Mean squared error: {mse:.2f}')"
   ]
  },
  {
   "cell_type": "code",
   "execution_count": 43,
   "metadata": {},
   "outputs": [
    {
     "data": {
      "image/png": "[encoded data removed]",
      "text/plain": [
       "<Figure size 1000x500 with 1 Axes>"
      ]
     },
     "metadata": {},
     "output_type": "display_data"
    }
   ],
   "source": [
    "import seaborn as sns\n",
    "import matplotlib.pyplot as plt\n",
    "\n",
    "# Create a scatter plot of Quantity vs Profit\n",
    "sns.set_theme(style=\"darkgrid\")\n",
    "sns.lmplot(x='Quantity', y='Profit', data=df2, height=5, aspect=2)\n",
    "\n",
    "\n",
    "plt.title('Profit vs Quantity')\n",
    "plt.xlabel('Quantity')\n",
    "plt.ylabel('Profit')\n",
    "\n",
    "plt.show()"
   ]
  },
  {
   "cell_type": "code",
   "execution_count": 19,
   "metadata": {},
   "outputs": [],
   "source": [
    "from skforecast.ForecasterAutoreg import ForecasterAutoreg\n",
    "from sklearn.tree import DecisionTreeRegressor"
   ]
  },
  {
   "cell_type": "code",
   "execution_count": 26,
   "metadata": {},
   "outputs": [],
   "source": [
    "df2['InvoiceDate'] = pd.to_datetime(df2['InvoiceDate'])\n",
    "df2['InvoiceDate'] = df2['InvoiceDate'].dt.date\n",
    "df2.index = pd.to_datetime(df2['InvoiceDate'])"
   ]
  },
  {
   "cell_type": "code",
   "execution_count": 30,
   "metadata": {},
   "outputs": [
    {
     "data": {
      "text/plain": [
       "DatetimeIndex(['2010-12-01', '2010-12-02', '2010-12-03', '2010-12-05',\n",
       "               '2010-12-06', '2010-12-07', '2010-12-08', '2010-12-09',\n",
       "               '2010-12-10', '2010-12-12',\n",
       "               ...\n",
       "               '2011-11-29', '2011-11-30', '2011-12-01', '2011-12-02',\n",
       "               '2011-12-04', '2011-12-05', '2011-12-06', '2011-12-07',\n",
       "               '2011-12-08', '2011-12-09'],\n",
       "              dtype='datetime64[ns]', name='InvoiceDate', length=305, freq=None)"
      ]
     },
     "execution_count": 30,
     "metadata": {},
     "output_type": "execute_result"
    }
   ],
   "source": [
    "df2.index.unique()"
   ]
  },
  {
   "cell_type": "code",
   "execution_count": 32,
   "metadata": {},
   "outputs": [],
   "source": [
    "train_start = pd.to_datetime('2010-12-01')\n",
    "train_end = pd.to_datetime('2011-11-30')\n",
    "\n",
    "test_start = pd.to_datetime('2011-12-01')\n",
    "test_end = pd.to_datetime('2011-12-09')\n",
    "\n",
    "forecast_start = pd.to_datetime('2012-05-01')\n",
    "forecast_end = pd.to_datetime('2012-05-31')"
   ]
  },
  {
   "cell_type": "code",
   "execution_count": 44,
   "metadata": {},
   "outputs": [],
   "source": [
    "import matplotlib.pyplot as plt\n",
    "import seaborn as sns\n",
    "sns.set_theme(style=\"darkgrid\")"
   ]
  },
  {
   "cell_type": "code",
   "execution_count": 40,
   "metadata": {},
   "outputs": [
    {
     "data": {
      "image/png": "[encoded data removed]",
      "text/plain": [
       "<Figure size 700x300 with 1 Axes>"
      ]
     },
     "metadata": {},
     "output_type": "display_data"
    }
   ],
   "source": [
    "fig, ax = plt.subplots(figsize=(7, 3))\n",
    "df2.loc[train_start:train_end].plot(ax=ax, label = \"Train\")\n",
    "df2.loc[test_start:test_end].plot(ax=ax, label = \"Test\")\n",
    "ax.legend().remove()"
   ]
  },
  {
   "cell_type": "code",
   "execution_count": 41,
   "metadata": {},
   "outputs": [
    {
     "data": {
      "text/plain": [
       "541909    1.660000\n",
       "541910    4.335000\n",
       "541911    3.150000\n",
       "541912    4.875000\n",
       "541913    2.490000\n",
       "            ...   \n",
       "567429    0.970625\n",
       "567430    0.970625\n",
       "567431    0.970625\n",
       "567432    0.970625\n",
       "567433    0.970625\n",
       "Name: pred, Length: 25525, dtype: float64"
      ]
     },
     "execution_count": 41,
     "metadata": {},
     "output_type": "execute_result"
    }
   ],
   "source": [
    "# Define the forecaster\n",
    "forecaster = ForecasterAutoreg(\n",
    "    # Add the sklearn regressor and lags\n",
    "    regressor = DecisionTreeRegressor(random_state = 28),\n",
    "    lags = 10\n",
    ")\n",
    "\n",
    "# Fit the model using train data\n",
    "y_train = df2.loc[train_start:train_end, 'Profit'].reset_index(drop=True)\n",
    "y_test = df2.loc[test_start:test_end, 'Profit'].reset_index(drop=True)\n",
    "forecaster.fit(y = y)\n",
    "\n",
    "# Predict the test period\n",
    "test_start_index = df2.index.get_loc(test_start)\n",
    "test_end_index = df2.index.get_loc(test_end)\n",
    "\n",
    "test_data = df2.loc[test_start:test_end, 'Profit']\n",
    "test_data = test_data.reset_index(drop=True)\n",
    "predicted_test = forecaster.predict(steps = len(test_data))\n",
    "predicted_test"
   ]
  },
  {
   "cell_type": "code",
   "execution_count": 48,
   "metadata": {},
   "outputs": [
    {
     "name": "stdout",
     "output_type": "stream",
     "text": [
      "Mean squared error: nan\n"
     ]
    }
   ],
   "source": [
    "mse = np.mean((y_test - predicted_test)**2)\n",
    "print(f'Mean squared error: {mse:.2f}')"
   ]
  },
  {
   "cell_type": "code",
   "execution_count": 50,
   "metadata": {},
   "outputs": [
    {
     "data": {
      "text/html": [
       "<div>\n",
       "<style scoped>\n",
       "    .dataframe tbody tr th:only-of-type {\n",
       "        vertical-align: middle;\n",
       "    }\n",
       "\n",
       "    .dataframe tbody tr th {\n",
       "        vertical-align: top;\n",
       "    }\n",
       "\n",
       "    .dataframe thead th {\n",
       "        text-align: right;\n",
       "    }\n",
       "</style>\n",
       "<table border=\"1\" class=\"dataframe\">\n",
       "  <thead>\n",
       "    <tr style=\"text-align: right;\">\n",
       "      <th></th>\n",
       "      <th>Quantity</th>\n",
       "      <th>UnitPrice</th>\n",
       "    </tr>\n",
       "  </thead>\n",
       "  <tbody>\n",
       "    <tr>\n",
       "      <th>431701</th>\n",
       "      <td>-0.020460</td>\n",
       "      <td>0.003050</td>\n",
       "    </tr>\n",
       "    <tr>\n",
       "      <th>293936</th>\n",
       "      <td>0.013729</td>\n",
       "      <td>-0.034159</td>\n",
       "    </tr>\n",
       "    <tr>\n",
       "      <th>64358</th>\n",
       "      <td>0.082108</td>\n",
       "      <td>-0.038182</td>\n",
       "    </tr>\n",
       "    <tr>\n",
       "      <th>174874</th>\n",
       "      <td>-0.043253</td>\n",
       "      <td>0.073446</td>\n",
       "    </tr>\n",
       "    <tr>\n",
       "      <th>280634</th>\n",
       "      <td>0.515175</td>\n",
       "      <td>-0.032148</td>\n",
       "    </tr>\n",
       "    <tr>\n",
       "      <th>...</th>\n",
       "      <td>...</td>\n",
       "      <td>...</td>\n",
       "    </tr>\n",
       "    <tr>\n",
       "      <th>110268</th>\n",
       "      <td>-0.037555</td>\n",
       "      <td>-0.034159</td>\n",
       "    </tr>\n",
       "    <tr>\n",
       "      <th>259178</th>\n",
       "      <td>0.013729</td>\n",
       "      <td>-0.017063</td>\n",
       "    </tr>\n",
       "    <tr>\n",
       "      <th>365838</th>\n",
       "      <td>-0.048951</td>\n",
       "      <td>-0.005196</td>\n",
       "    </tr>\n",
       "    <tr>\n",
       "      <th>131932</th>\n",
       "      <td>-0.048951</td>\n",
       "      <td>-0.032148</td>\n",
       "    </tr>\n",
       "    <tr>\n",
       "      <th>121958</th>\n",
       "      <td>-0.037555</td>\n",
       "      <td>0.013107</td>\n",
       "    </tr>\n",
       "  </tbody>\n",
       "</table>\n",
       "<p>433527 rows × 2 columns</p>\n",
       "</div>"
      ],
      "text/plain": [
       "        Quantity  UnitPrice\n",
       "431701 -0.020460   0.003050\n",
       "293936  0.013729  -0.034159\n",
       "64358   0.082108  -0.038182\n",
       "174874 -0.043253   0.073446\n",
       "280634  0.515175  -0.032148\n",
       "...          ...        ...\n",
       "110268 -0.037555  -0.034159\n",
       "259178  0.013729  -0.017063\n",
       "365838 -0.048951  -0.005196\n",
       "131932 -0.048951  -0.032148\n",
       "121958 -0.037555   0.013107\n",
       "\n",
       "[433527 rows x 2 columns]"
      ]
     },
     "execution_count": 50,
     "metadata": {},
     "output_type": "execute_result"
    }
   ],
   "source": [
    "mean_x = np.mean(X_train, axis=0)\n",
    "std_x = np.std(X_train, axis=0)\n",
    "X_train_norm = (X_train - mean_x) / std_x\n",
    "X_test_norm = (X_test - mean_x) / std_x\n",
    "X_train_norm"
   ]
  },
  {
   "cell_type": "code",
   "execution_count": 51,
   "metadata": {},
   "outputs": [
    {
     "data": {
      "text/html": [
       "<div>\n",
       "<style scoped>\n",
       "    .dataframe tbody tr th:only-of-type {\n",
       "        vertical-align: middle;\n",
       "    }\n",
       "\n",
       "    .dataframe tbody tr th {\n",
       "        vertical-align: top;\n",
       "    }\n",
       "\n",
       "    .dataframe thead th {\n",
       "        text-align: right;\n",
       "    }\n",
       "</style>\n",
       "<table border=\"1\" class=\"dataframe\">\n",
       "  <thead>\n",
       "    <tr style=\"text-align: right;\">\n",
       "      <th></th>\n",
       "      <th>Quantity</th>\n",
       "      <th>UnitPrice</th>\n",
       "    </tr>\n",
       "  </thead>\n",
       "  <tbody>\n",
       "    <tr>\n",
       "      <th>209268</th>\n",
       "      <td>0.082108</td>\n",
       "      <td>-0.038182</td>\n",
       "    </tr>\n",
       "    <tr>\n",
       "      <th>207108</th>\n",
       "      <td>-0.031857</td>\n",
       "      <td>0.023163</td>\n",
       "    </tr>\n",
       "    <tr>\n",
       "      <th>167085</th>\n",
       "      <td>-0.031857</td>\n",
       "      <td>-0.040193</td>\n",
       "    </tr>\n",
       "    <tr>\n",
       "      <th>471836</th>\n",
       "      <td>-0.037555</td>\n",
       "      <td>-0.027119</td>\n",
       "    </tr>\n",
       "    <tr>\n",
       "      <th>115865</th>\n",
       "      <td>-0.043253</td>\n",
       "      <td>0.053333</td>\n",
       "    </tr>\n",
       "    <tr>\n",
       "      <th>...</th>\n",
       "      <td>...</td>\n",
       "      <td>...</td>\n",
       "    </tr>\n",
       "    <tr>\n",
       "      <th>316739</th>\n",
       "      <td>-0.043253</td>\n",
       "      <td>-0.038383</td>\n",
       "    </tr>\n",
       "    <tr>\n",
       "      <th>404752</th>\n",
       "      <td>0.173280</td>\n",
       "      <td>0.038751</td>\n",
       "    </tr>\n",
       "    <tr>\n",
       "      <th>261850</th>\n",
       "      <td>-0.009064</td>\n",
       "      <td>-0.030136</td>\n",
       "    </tr>\n",
       "    <tr>\n",
       "      <th>530124</th>\n",
       "      <td>0.082108</td>\n",
       "      <td>-0.044819</td>\n",
       "    </tr>\n",
       "    <tr>\n",
       "      <th>312160</th>\n",
       "      <td>-0.048951</td>\n",
       "      <td>-0.042808</td>\n",
       "    </tr>\n",
       "  </tbody>\n",
       "</table>\n",
       "<p>108382 rows × 2 columns</p>\n",
       "</div>"
      ],
      "text/plain": [
       "        Quantity  UnitPrice\n",
       "209268  0.082108  -0.038182\n",
       "207108 -0.031857   0.023163\n",
       "167085 -0.031857  -0.040193\n",
       "471836 -0.037555  -0.027119\n",
       "115865 -0.043253   0.053333\n",
       "...          ...        ...\n",
       "316739 -0.043253  -0.038383\n",
       "404752  0.173280   0.038751\n",
       "261850 -0.009064  -0.030136\n",
       "530124  0.082108  -0.044819\n",
       "312160 -0.048951  -0.042808\n",
       "\n",
       "[108382 rows x 2 columns]"
      ]
     },
     "execution_count": 51,
     "metadata": {},
     "output_type": "execute_result"
    }
   ],
   "source": [
    "X_test_norm"
   ]
  },
  {
   "cell_type": "code",
   "execution_count": 52,
   "metadata": {},
   "outputs": [
    {
     "data": {
      "text/plain": [
       "0           NaN\n",
       "1           NaN\n",
       "2           NaN\n",
       "3           NaN\n",
       "4           NaN\n",
       "             ..\n",
       "25522       NaN\n",
       "25523       NaN\n",
       "25524       NaN\n",
       "Quantity    NaN\n",
       "UnitPrice   NaN\n",
       "Length: 25527, dtype: float64"
      ]
     },
     "execution_count": 52,
     "metadata": {},
     "output_type": "execute_result"
    }
   ],
   "source": [
    "y_test_denorm = y_test * std_x + mean_x\n",
    "y_test_denorm\n"
   ]
  },
  {
   "cell_type": "code",
   "execution_count": 45,
   "metadata": {},
   "outputs": [
    {
     "data": {
      "image/png": "[encoded data removed]",
      "text/plain": [
       "<Figure size 640x480 with 1 Axes>"
      ]
     },
     "metadata": {},
     "output_type": "display_data"
    }
   ],
   "source": [
    "sns.lineplot(x=range(len(test_data)), y=test_data, label='Actual')\n",
    "sns.lineplot(x=range(len(predicted_test)), y=predicted_test, label='Predicted')\n",
    "plt.legend()\n",
    "plt.title('Test Data vs Predicted Data')\n",
    "plt.xlabel('Index')\n",
    "plt.ylabel('Profit')\n",
    "plt.show()"
   ]
  }
 ],
 "metadata": {
  "kernelspec": {
   "display_name": "Python 3",
   "language": "python",
   "name": "python3"
  },
  "language_info": {
   "codemirror_mode": {
    "name": "ipython",
    "version": 3
   },
   "file_extension": ".py",
   "mimetype": "text/x-python",
   "name": "python",
   "nbconvert_exporter": "python",
   "pygments_lexer": "ipython3",
   "version": "3.12.2"
  }
 },
 "nbformat": 4,
 "nbformat_minor": 2
}
